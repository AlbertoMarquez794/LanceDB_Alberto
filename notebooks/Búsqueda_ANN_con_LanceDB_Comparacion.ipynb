{
 "cells": [
  {
   "cell_type": "markdown",
   "id": "e9e9a0b7",
   "metadata": {},
   "source": [
    "\n",
    "# Búsqueda Aproximada de Vecinos Más Cercanos (ANN) con LanceDB\n",
    "\n",
    " **IVF_PQ** \n",
    "(Indexado basado en archivos invertidos y cuantización por producto) \n",
    "sirve para realizar búsquedas rápidas en grandes conjuntos de vectores. \n",
    "\n",
    "\n"
   ]
  },
  {
   "cell_type": "code",
   "execution_count": 4,
   "id": "768aa461",
   "metadata": {},
   "outputs": [],
   "source": [
    "\n",
    "# Cargar librerías necesarias\n",
    "import time\n",
    "import lancedb\n",
    "import numpy as np\n",
    "import pandas as pd\n",
    "import matplotlib.pyplot as plt\n"
   ]
  },
  {
   "cell_type": "code",
   "execution_count": 2,
   "id": "a43875d7",
   "metadata": {},
   "outputs": [
    {
     "name": "stdout",
     "output_type": "stream",
     "text": [
      "Tabla 'mis_vectores' creada con 199990 vectores.\n"
     ]
    }
   ],
   "source": [
    "\n",
    "# Configurar LanceDB\n",
    "uri = \"data/ANN\"  # Directorio donde se guardará la base de datos\n",
    "db = lancedb.connect(uri)\n",
    "\n",
    "# Crear 10,000 vectores de muestra aleatorios\n",
    "np.random.seed(42)  # Para reproducibilidad\n",
    "data = [\n",
    "    {\"vector\": row, \"item\": f\"item {i}\"}\n",
    "    for i, row in enumerate(np.random.random((19_999_0, 1536)).astype(\"float32\"))\n",
    "]\n",
    "\n",
    "# Crear tabla en la base de datos\n",
    "tbl = db.create_table(\"mis_vectores\", data=data)\n",
    "print(f\"Tabla 'mis_vectores' creada con {len(data)} vectores.\")\n",
    "# Mostrar las primeras 5 filas de la tabla\n",
    "\n",
    "\n"
   ]
  },
  {
   "cell_type": "markdown",
   "id": "d32f1135",
   "metadata": {},
   "source": [
    "### Parámetros de Configuración\n",
    "\n",
    "- **`distance_type`**  \n",
    "  Define la métrica de distancia(define qué tan \"parecidos\" son los datos) a utilizar. Por defecto, se emplea la distancia **Euclidiana** (\"L2\"). También se admiten las siguientes opciones:  \n",
    "  - **`cosine`** \n",
    "    - Mide la similitud del ángulo entre dos vectores. Es útil cuando te interesa la orientación más que la magnitud (por ejemplo, para documentos)\n",
    "  \n",
    "  - **`dot`**  \n",
    "    - Se basa en el producto escalar entre dos vectores, lo que resalta su magnitud y dirección\n",
    "---\n",
    "\n",
    "- **`num_partitions`**  \n",
    "    - Especifica el número de particiones en el índice. El valor predeterminado es la raíz cuadrada del número de filas.\n",
    "    - Sirve para mejorar el rendimiento en búsquedas. En lugar de comparar un vector contra toda la base de datos, solo se compara con los vectores dentro de una partición.\n",
    "\n",
    "\n",
    "---\n",
    "\n",
    "- **`num_sub_vectors`**  \n",
    "  Indica el número de subvectores (**M**) que se generarán durante la **Cuantización de Producto** (*Product Quantization*, PQ). Para un vector de dimensión **D**, se dividirá en **M** subvectores de dimensión **D/M**, cada uno de los cuales será reemplazado por un único código PQ.  \n",
    "  - **Valor predeterminado:** La dimensión del vector dividida por 16.\n",
    "  - **Consideracion para eligir M**\n",
    "    - Si eliges M muy grande:\n",
    "Los subvectores serán pequeños, lo que puede reducir la precisión porque pierdes demasiada información al cuantizarlos.\n",
    "\n",
    "    - Si eliges M pequeña:\n",
    "Los subvectores serán grandes, lo que hace que la compresión sea menos efectiva y las búsquedas más lentas.\n"
   ]
  },
  {
   "cell_type": "markdown",
   "id": "36220d53",
   "metadata": {},
   "source": [
    "<div style=\"text-align: center;\">\n",
    "    <img src='data/images/ivf_pq.png' width=\"700\">\n",
    "</div>\n",
    "<div style=\"text-align: center;\">\n",
    "    \"IVF_PQ index with num_partitions=2, num_sub_vectors=4\"\n",
    "</div>\n"
   ]
  },
  {
   "cell_type": "code",
   "execution_count": 113,
   "id": "c09c0598",
   "metadata": {},
   "outputs": [],
   "source": [
    "# Crear un índice para optimizar búsquedas\n",
    "tbl.create_index(num_partitions=256, num_sub_vectors=96)"
   ]
  },
  {
   "cell_type": "markdown",
   "id": "305dfa2a",
   "metadata": {},
   "source": [
    "### Querying Vector Indexes\n",
    "\n",
    "La búsqueda en índices vectoriales se realiza mediante la función **`search`**, que permite ajustar varios parámetros para optimizar los resultados:\n",
    "\n",
    "---\n",
    "\n",
    "#### **Parámetros de Búsqueda**\n",
    "\n",
    "- **`limit`** *(default: 10)*  \n",
    "  Define la cantidad de resultados que serán retornados.\n",
    "\n",
    "- **`nprobes`** *(default: 20)*  \n",
    "  Especifica el número de particiones (probes) que se explorarán durante la búsqueda.  \n",
    "  - **Impacto:**  \n",
    "    - Un valor más alto incrementa la precisión de la búsqueda, pero también aumenta la latencia.  \n",
    "    - En general, configurarlo para cubrir entre **5-15%** del dataset suele ofrecer un buen equilibrio entre precisión y velocidad.  \n",
    "\n",
    "  **Ejemplo:**  \n",
    "  Para un dataset de 1 millón de vectores dividido en 256 particiones, un valor de **`nprobes`** de aproximadamente **20-40** es una buena configuración inicial. Este valor se puede ajustar para mejorar el balance entre latencia y calidad de búsqueda.\n",
    "\n",
    "- **`refine_factor`** *(default: None)*  \n",
    "  Mejora los resultados al leer elementos adicionales y reordenarlos en memoria.  \n",
    "  - **Impacto:**  \n",
    "    - Un valor más alto aumenta la precisión, pero también ralentiza la búsqueda.  \n",
    "    - Si encuentras que el recall no es suficiente, intenta con **`refine_factor=10`** como punto de partida.  \n",
    "\n",
    "  **Ejemplo:**  \n",
    "  Para un dataset de 1 millón de vectores dividido en 256 particiones:  \n",
    "  - Configurar **`refine_factor`** a **200** hará que se recuperen inicialmente **4,000 candidatos** (*top k* x *refine_factor*) de todas las particiones buscadas.  \n",
    "  - Estos candidatos serán reordenados para determinar los **20 resultados finales**.\n",
    "\n",
    "\n"
   ]
  },
  {
   "cell_type": "code",
   "execution_count": 5,
   "id": "b7ec3467",
   "metadata": {},
   "outputs": [
    {
     "name": "stdout",
     "output_type": "stream",
     "text": [
      "Vector de consulta:\n",
      "[0.3977638  0.21180137 0.1353577  ... 0.683926   0.33084738 0.6831097 ]\n",
      "\n",
      "Resultados de la búsqueda:\n",
      "                                              vector         item   _distance\n",
      "0  [0.61493224, 0.62874645, 0.7209614, 0.28020278...  item 130886  230.120117\n",
      "1  [0.9391697, 0.27252048, 0.033871643, 0.3604804...  item 181038  233.518494\n",
      "2  [0.8910928, 0.4416107, 0.45793006, 0.16967492,...  item 105955  233.574097\n",
      "3  [0.44848645, 0.31100613, 0.3019747, 0.95872945...  item 124729  233.986649\n",
      "4  [0.50761247, 0.17403471, 0.3291691, 0.49919704...  item 181240  234.491257\n"
     ]
    }
   ],
   "source": [
    "# Crear un vector de consulta aleatorio\n",
    "query_vector = np.random.random((1536)).astype(\"float32\")\n",
    "print(\"Vector de consulta:\")\n",
    "print(query_vector)\n",
    "\n",
    "# Realizar búsqueda con parámetros ajustados\n",
    "resultados = tbl.search(query_vector).limit(5).nprobes(20).refine_factor(10).to_pandas()\n",
    "\n",
    "# Mostrar resultados\n",
    "print(\"\\nResultados de la búsqueda:\")\n",
    "print(resultados)\n"
   ]
  },
  {
   "cell_type": "code",
   "execution_count": 6,
   "id": "805ac12b",
   "metadata": {},
   "outputs": [
    {
     "name": "stdout",
     "output_type": "stream",
     "text": [
      "Resultados filtrados:\n",
      "                                              vector         item   _distance\n",
      "0  [0.8910928, 0.4416107, 0.45793006, 0.16967492,...  item 105955  166.862442\n",
      "1  [0.09329533, 0.0011537449, 0.15083703, 0.89919...  item 164497  170.937271\n",
      "2  [0.33818224, 0.026378466, 0.8647342, 0.9498642...  item 198304  171.075714\n",
      "3  [0.64670885, 0.42114004, 0.89214677, 0.6076355...  item 188916  171.761642\n",
      "4  [0.6217574, 0.86655176, 0.02862661, 0.89499575...  item 124516  171.933853\n",
      "Resultados proyectados:\n",
      "                                              vector   _distance\n",
      "0  [0.8910928, 0.4416107, 0.45793006, 0.16967492,...  166.862442\n",
      "1  [0.09329533, 0.0011537449, 0.15083703, 0.89919...  170.937271\n",
      "2  [0.33818224, 0.026378466, 0.8647342, 0.9498642...  171.075714\n",
      "3  [0.64670885, 0.42114004, 0.89214677, 0.6076355...  171.761642\n",
      "4  [0.6217574, 0.86655176, 0.02862661, 0.89499575...  171.933853\n"
     ]
    }
   ],
   "source": [
    "\n",
    "# Filtrar resultados para excluir un ítem específico\n",
    "resultados_filt = tbl.search(query_vector).where(\"item != 'item 1141'\").limit(5).nprobes(20).to_pandas()\n",
    "print(\"Resultados filtrados:\")\n",
    "print(resultados_filt)\n",
    "\n",
    "# Seleccionar solo ciertas columnas\n",
    "resultados_p = tbl.search(query_vector).limit(5).nprobes(20).to_pandas()[[\"vector\", \"_distance\"]]\n",
    "print(\"Resultados proyectados:\")\n",
    "print(resultados_p)\n"
   ]
  },
  {
   "cell_type": "markdown",
   "id": "b1148f17",
   "metadata": {},
   "source": [
    "Visualizar distancias de los resultados para análisis."
   ]
  },
  {
   "cell_type": "code",
   "execution_count": 7,
   "id": "df8373bc",
   "metadata": {},
   "outputs": [
    {
     "data": {
      "image/png": "[encoded data removed]",
      "text/plain": [
       "<Figure size 640x480 with 1 Axes>"
      ]
     },
     "metadata": {},
     "output_type": "display_data"
    }
   ],
   "source": [
    "\n",
    "# Visualizar las distancias de los resultados obtenidos\n",
    "plt.barh(resultados[\"item\"], resultados[\"_distance\"], color=\"skyblue\")\n",
    "plt.xlabel(\"Distancia\")\n",
    "plt.ylabel(\"Item\")\n",
    "plt.title(\"Resultados de búsqueda ANN (Distancia)\")\n",
    "plt.gca().invert_yaxis()  \n",
    "plt.show()\n"
   ]
  },
  {
   "cell_type": "code",
   "execution_count": 3,
   "id": "44ab86ac",
   "metadata": {},
   "outputs": [
    {
     "name": "stdout",
     "output_type": "stream",
     "text": [
      "Creación de índice en CPU tomó: 100.2390 segundos\n"
     ]
    },
    {
     "name": "stderr",
     "output_type": "stream",
     "text": [
      "/home/jake3120/itam/FuentesDeDatos/LanceDB/.venv/lib/python3.11/site-packages/lance/torch/data.py:44: UserWarning: The given NumPy array is not writable, and PyTorch does not support non-writable tensors. This means writing to this tensor will result in undefined behavior. You may want to copy the array to protect its data or make it writable before converting it to a tensor. This type of warning will be suppressed for the rest of this program. (Triggered internally at ../torch/csrc/utils/tensor_numpy.cpp:206.)\n",
      "  return torch.from_numpy(nparr)\n",
      " 12%|█▏        | 6/50 [00:07<00:57,  1.31s/it]\n",
      "Assigning partitions and computing residuals: 100%|██████████| 199990/199990 [00:11<00:00, 17424.93it/s]\n",
      " 90%|█████████ | 45/50 [00:18<00:02,  2.42it/s]\n",
      " 88%|████████▊ | 44/50 [00:00<00:00, 55.06it/s]\n",
      "100%|██████████| 50/50 [00:00<00:00, 57.87it/s]\n",
      " 82%|████████▏ | 41/50 [00:00<00:00, 54.14it/s]\n",
      " 92%|█████████▏| 46/50 [00:00<00:00, 52.31it/s]\n",
      " 78%|███████▊  | 39/50 [00:00<00:00, 53.28it/s]\n",
      " 76%|███████▌  | 38/50 [00:00<00:00, 55.11it/s]\n",
      " 82%|████████▏ | 41/50 [00:00<00:00, 56.10it/s]\n",
      " 96%|█████████▌| 48/50 [00:00<00:00, 55.72it/s]\n",
      " 92%|█████████▏| 46/50 [00:00<00:00, 56.11it/s]\n",
      "100%|██████████| 50/50 [00:00<00:00, 59.44it/s]\n",
      " 84%|████████▍ | 42/50 [00:00<00:00, 55.02it/s]\n",
      "100%|██████████| 50/50 [00:00<00:00, 60.65it/s]\n",
      " 86%|████████▌ | 43/50 [00:00<00:00, 59.71it/s]\n",
      " 78%|███████▊  | 39/50 [00:00<00:00, 55.13it/s]\n",
      " 76%|███████▌  | 38/50 [00:00<00:00, 55.26it/s]\n",
      " 86%|████████▌ | 43/50 [00:00<00:00, 55.27it/s]\n",
      " 82%|████████▏ | 41/50 [00:00<00:00, 53.52it/s]\n",
      " 88%|████████▊ | 44/50 [00:00<00:00, 56.30it/s]\n",
      "100%|██████████| 50/50 [00:00<00:00, 56.69it/s]\n",
      " 88%|████████▊ | 44/50 [00:00<00:00, 56.65it/s]\n",
      " 80%|████████  | 40/50 [00:00<00:00, 56.67it/s]\n",
      " 90%|█████████ | 45/50 [00:00<00:00, 58.06it/s]\n",
      " 78%|███████▊  | 39/50 [00:00<00:00, 55.04it/s]\n",
      " 82%|████████▏ | 41/50 [00:00<00:00, 55.73it/s]\n",
      "100%|██████████| 50/50 [00:00<00:00, 56.17it/s]\n",
      " 94%|█████████▍| 47/50 [00:00<00:00, 56.79it/s]\n",
      " 88%|████████▊ | 44/50 [00:00<00:00, 58.15it/s]\n",
      " 76%|███████▌  | 38/50 [00:00<00:00, 56.46it/s]\n",
      " 88%|████████▊ | 44/50 [00:00<00:00, 54.92it/s]\n",
      " 82%|████████▏ | 41/50 [00:00<00:00, 55.50it/s]\n",
      " 94%|█████████▍| 47/50 [00:00<00:00, 55.70it/s]\n",
      "100%|██████████| 50/50 [00:00<00:00, 54.48it/s]\n",
      " 88%|████████▊ | 44/50 [00:00<00:00, 58.09it/s]\n",
      " 92%|█████████▏| 46/50 [00:00<00:00, 56.89it/s]\n",
      " 74%|███████▍  | 37/50 [00:00<00:00, 54.02it/s]\n",
      " 84%|████████▍ | 42/50 [00:00<00:00, 56.27it/s]\n",
      " 88%|████████▊ | 44/50 [00:00<00:00, 57.21it/s]\n",
      " 92%|█████████▏| 46/50 [00:00<00:00, 55.16it/s]\n",
      " 90%|█████████ | 45/50 [00:00<00:00, 55.23it/s]\n",
      "100%|██████████| 50/50 [00:05<00:00,  9.38it/s]\n",
      " 72%|███████▏  | 36/50 [00:00<00:00, 50.08it/s]\n",
      "100%|██████████| 50/50 [00:00<00:00, 54.52it/s]\n",
      " 82%|████████▏ | 41/50 [00:00<00:00, 50.69it/s]\n",
      " 88%|████████▊ | 44/50 [00:00<00:00, 51.03it/s]\n",
      " 80%|████████  | 40/50 [00:00<00:00, 51.27it/s]\n",
      " 90%|█████████ | 45/50 [00:00<00:00, 53.41it/s]\n",
      " 78%|███████▊  | 39/50 [00:00<00:00, 51.45it/s]\n",
      " 84%|████████▍ | 42/50 [00:00<00:00, 52.64it/s]\n",
      " 92%|█████████▏| 46/50 [00:00<00:00, 53.17it/s]\n",
      " 94%|█████████▍| 47/50 [00:00<00:00, 51.63it/s]\n",
      " 78%|███████▊  | 39/50 [00:00<00:00, 51.25it/s]\n",
      " 86%|████████▌ | 43/50 [00:00<00:00, 52.32it/s]\n",
      " 98%|█████████▊| 49/50 [00:00<00:00, 51.01it/s]\n",
      " 84%|████████▍ | 42/50 [00:00<00:00, 52.67it/s]\n",
      " 90%|█████████ | 45/50 [00:00<00:00, 52.88it/s]\n",
      " 90%|█████████ | 45/50 [00:00<00:00, 51.01it/s]\n",
      " 72%|███████▏  | 36/50 [00:00<00:00, 51.36it/s]\n",
      " 88%|████████▊ | 44/50 [00:00<00:00, 51.85it/s]\n",
      " 96%|█████████▌| 48/50 [00:00<00:00, 54.85it/s]\n",
      " 92%|█████████▏| 46/50 [00:00<00:00, 51.54it/s]\n",
      " 86%|████████▌ | 43/50 [00:00<00:00, 54.41it/s]\n",
      "100%|██████████| 50/50 [00:00<00:00, 54.19it/s]\n",
      " 76%|███████▌  | 38/50 [00:00<00:00, 51.24it/s]\n",
      " 88%|████████▊ | 44/50 [00:00<00:00, 52.58it/s]\n",
      " 76%|███████▌  | 38/50 [00:00<00:00, 51.60it/s]\n",
      " 94%|█████████▍| 47/50 [00:00<00:00, 48.20it/s]\n",
      " 94%|█████████▍| 47/50 [00:00<00:00, 49.90it/s]\n",
      " 80%|████████  | 40/50 [00:00<00:00, 51.42it/s]\n",
      " 86%|████████▌ | 43/50 [00:00<00:00, 50.89it/s]\n",
      " 82%|████████▏ | 41/50 [00:00<00:00, 53.60it/s]\n",
      " 84%|████████▍ | 42/50 [00:00<00:00, 50.17it/s]\n",
      " 80%|████████  | 40/50 [00:00<00:00, 51.01it/s]\n",
      " 96%|█████████▌| 48/50 [00:00<00:00, 52.70it/s]\n",
      " 86%|████████▌ | 43/50 [00:00<00:00, 50.57it/s]\n",
      "100%|██████████| 50/50 [00:00<00:00, 53.09it/s]\n",
      " 90%|█████████ | 45/50 [00:00<00:00, 52.89it/s]\n",
      " 90%|█████████ | 45/50 [00:00<00:00, 51.35it/s]\n",
      " 88%|████████▊ | 44/50 [00:00<00:00, 52.88it/s]\n",
      " 94%|█████████▍| 47/50 [00:00<00:00, 52.00it/s]\n",
      " 96%|█████████▌| 48/50 [00:00<00:00, 51.40it/s]\n",
      " 84%|████████▍ | 42/50 [00:00<00:00, 53.18it/s]\n",
      " 78%|███████▊  | 39/50 [00:00<00:00, 48.30it/s]\n",
      " 98%|█████████▊| 49/50 [00:00<00:00, 53.02it/s]\n",
      "100%|██████████| 50/50 [00:00<00:00, 52.42it/s]\n",
      " 86%|████████▌ | 43/50 [00:00<00:00, 52.68it/s]\n",
      " 80%|████████  | 40/50 [00:00<00:00, 51.79it/s]\n",
      " 80%|████████  | 40/50 [00:00<00:00, 55.84it/s]\n",
      " 90%|█████████ | 45/50 [00:00<00:00, 58.66it/s]\n",
      "100%|██████████| 50/50 [00:00<00:00, 59.57it/s]\n",
      " 86%|████████▌ | 43/50 [00:00<00:00, 55.03it/s]\n",
      " 96%|█████████▌| 48/50 [00:00<00:00, 54.10it/s]\n",
      "100%|██████████| 50/50 [00:00<00:00, 53.85it/s]\n",
      " 90%|█████████ | 45/50 [00:00<00:00, 55.37it/s]\n",
      " 86%|████████▌ | 43/50 [00:00<00:00, 57.24it/s]\n",
      " 84%|████████▍ | 42/50 [00:00<00:00, 55.85it/s]\n",
      "Assigning PQ codes: 100%|██████████| 199990/199990 [00:09<00:00, 21326.57it/s]\n"
     ]
    },
    {
     "name": "stdout",
     "output_type": "stream",
     "text": [
      "Creación de índice en GPU tomó: 136.2533 segundos\n",
      "Diferencia de tiempo (CPU vs GPU): -36.0143 segundos\n"
     ]
    }
   ],
   "source": [
    "# Crear índice en CPU (sin usar GPU)\n",
    "start_time = time.time()\n",
    "tbl.create_index(num_partitions=256, num_sub_vectors=96)\n",
    "cpu_time = time.time() - start_time\n",
    "print(f\"Creación de índice en CPU tomó: {cpu_time:.4f} segundos\")\n",
    "\n",
    "# Crear índice en GPU (usando CUDA)\n",
    "start_time = time.time()\n",
    "tbl.create_index(num_partitions=256, num_sub_vectors=96, accelerator=\"cuda\")\n",
    "gpu_time = time.time() - start_time\n",
    "print(f\"Creación de índice en GPU tomó: {gpu_time:.4f} segundos\")\n",
    "\n",
    "# Comparar tiempos de creación de índices\n",
    "print(f\"Diferencia de tiempo (CPU vs GPU): {cpu_time - gpu_time:.4f} segundos\")\n"
   ]
  }
 ],
 "metadata": {
  "kernelspec": {
   "display_name": ".venv",
   "language": "python",
   "name": "python3"
  },
  "language_info": {
   "codemirror_mode": {
    "name": "ipython",
    "version": 3
   },
   "file_extension": ".py",
   "mimetype": "text/x-python",
   "name": "python",
   "nbconvert_exporter": "python",
   "pygments_lexer": "ipython3",
   "version": "3.11.10"
  }
 },
 "nbformat": 4,
 "nbformat_minor": 5
}
