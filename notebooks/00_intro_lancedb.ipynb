{
 "cells": [
  {
   "cell_type": "markdown",
   "metadata": {},
   "source": [
    "<h1>Introducción a LanceDB<h1>"
   ]
  },
  {
   "cell_type": "markdown",
   "metadata": {},
   "source": [
    "<img src='../images/lancedb-logo.svg' width=600>"
   ]
  },
  {
   "cell_type": "markdown",
   "metadata": {},
   "source": [
    "LanceDB es una base de datos vectorial de código abierto para IA diseñada para almacenar, administrar, consultar y recuperar incrustaciones en datos multimodales a gran escala. El núcleo de LanceDB está escrito en Rust 🦀 y está construido sobre Lance , un formato de datos en columnas de código abierto diseñado para cargas de trabajo de ML de alto rendimiento y acceso aleatorio rápido.\n",
    "\n",
    "La mayoría de las bases de datos vectoriales existentes almacenan y consultan únicamente las incrustaciones y sus metadatos. Los datos reales se almacenan en otro lugar, por lo que es necesario administrar su almacenamiento y control de versiones por separado.\n",
    "\n",
    "LanceDB admite el almacenamiento de los datos reales , junto con las incrustaciones y los metadatos. Puede conservar sus imágenes, videos, documentos de texto, archivos de audio y más en el formato Lance, que proporciona control automático de versiones de datos y recuperaciones y filtrados ultrarrápidos a través de LanceDB."
   ]
  },
  {
   "cell_type": "markdown",
   "metadata": {},
   "source": [
    "<div style=\"text-align: center;\">\n",
    "    <img src='../images/lancedb_embedded_explanation.png' width=\"700\">\n",
    "</div>\n"
   ]
  },
  {
   "cell_type": "markdown",
   "metadata": {},
   "source": [
    "<h2>Comandos utiles</h2>\n",
    "\n",
    "Para obtener los nombres de todas las tablas almacenadas: `print(\"base\".table_names())`  \n",
    "Para abrir una tabla específica: `\"variable\" = \"base\".open_table(\"my_table\")`  \n",
    "Para agregar nuevos elementos a una tabla ya abierta: `\"my_table\".add(items)`  \n",
    "Para eliminar elementos de la tabla: `\"my_table\".delete(\"nombre_columna\" = \"valor_especifico\")`  \n",
    "Para eliminar una tabla: `\"base\".drop_table(\"my_table\")`  \n",
    "Para gestionar vectores que no cumplen con los requisitos: `\"my_table\".on_bad_vectors`\n"
   ]
  },
  {
   "cell_type": "code",
   "execution_count": null,
   "metadata": {},
   "outputs": [
    {
     "ename": "",
     "evalue": "",
     "output_type": "error",
     "traceback": [
      "\u001b[1;31mRunning cells with 'Python 3.10.12' requires the ipykernel package.\n",
      "\u001b[1;31mRun the following command to install 'ipykernel' into the Python environment. \n",
      "\u001b[1;31mCommand: '/bin/python3 -m pip install ipykernel -U --user --force-reinstall'"
     ]
    }
   ],
   "source": [
    "import lancedb\n",
    "import pandas as pd\n",
    "import pyarrow as pa\n",
    "import polars as pl\n",
    "import numpy as np"
   ]
  },
  {
   "cell_type": "markdown",
   "metadata": {},
   "source": [
    "<h2>Conexion a la base de datos<h2>"
   ]
  },
  {
   "cell_type": "code",
   "execution_count": 2,
   "metadata": {},
   "outputs": [],
   "source": [
    "db = lancedb.connect(\"data/introdb\")"
   ]
  },
  {
   "cell_type": "markdown",
   "metadata": {},
   "source": [
    "<h2>Creación de tablas<h2>"
   ]
  },
  {
   "cell_type": "code",
   "execution_count": 3,
   "metadata": {},
   "outputs": [
    {
     "name": "stdout",
     "output_type": "stream",
     "text": [
      "                 vector   lat   long\n",
      "0  [1.1, 1.2, 1.3, 1.4]  45.5 -122.7\n",
      "1  [0.2, 1.8, 0.4, 3.6]  40.1  -74.1\n",
      "2  [3.1, 4.2, 5.3, 6.4]  34.9 -118.3\n",
      "3  [1.9, 2.8, 3.7, 4.6]  51.5   -0.1\n",
      "4  [2.3, 3.5, 4.8, 5.1]  48.3    2.2\n",
      "5  [0.6, 0.9, 1.1, 1.3]  39.7  -75.5\n",
      "\n",
      "        vector item  price  quantity     category\n",
      "0   [3.1, 4.1]  foo   10.0         5  electronics\n",
      "1  [5.9, 26.5]  bar   20.0        10    furniture\n",
      "2   [7.2, 9.3]  baz   15.0         7        books\n",
      "3  [2.5, 15.8]  qux   25.0        12     clothing\n",
      "\n",
      "       vector   lat   long        name  category  population\n",
      "0  [1.1, 1.2]  45.5 -122.7  Location A     Urban      100000\n",
      "1  [0.2, 1.8]  40.1  -74.1  Location B  Suburban       50000\n",
      "2  [2.2, 3.4]  34.9 -118.3  Location C     Rural        2000\n",
      "3  [3.1, 4.5]  51.5   -0.1  Location D     Urban      120000\n"
     ]
    },
    {
     "name": "stderr",
     "output_type": "stream",
     "text": [
      "[2024-12-01T02:57:40Z WARN  lance::dataset] No existing dataset at /home/jake3120/itam/FuentesDeDatos/LanceDB/notebooks/data/introdb/my_table.lance, it will be created\n",
      "[2024-12-01T02:57:40Z WARN  lance::dataset] No existing dataset at /home/jake3120/itam/FuentesDeDatos/LanceDB/notebooks/data/introdb/pd_table.lance, it will be created\n",
      "[2024-12-01T02:57:40Z WARN  lance::dataset] No existing dataset at /home/jake3120/itam/FuentesDeDatos/LanceDB/notebooks/data/introdb/pl_table.lance, it will be created\n"
     ]
    }
   ],
   "source": [
    "#Desde una lista de tuplas o diccionarios\n",
    "\n",
    "data = [\n",
    "    {\"vector\": [1.1, 1.2], \"lat\": 45.5, \"long\": -122.7, \"name\": \"Location A\", \"category\": \"Urban\", \"population\": 100000},\n",
    "    {\"vector\": [0.2, 1.8], \"lat\": 40.1, \"long\": -74.1, \"name\": \"Location B\", \"category\": \"Suburban\", \"population\": 50000},\n",
    "    {\"vector\": [2.2, 3.4], \"lat\": 34.9, \"long\": -118.3, \"name\": \"Location C\", \"category\": \"Rural\", \"population\": 2000},\n",
    "    {\"vector\": [3.1, 4.5], \"lat\": 51.5, \"long\": -0.1, \"name\": \"Location D\", \"category\": \"Urban\", \"population\": 120000}\n",
    "]\n",
    "\n",
    "table = db.create_table(\"my_table\", data, exist_ok=True, mode=\"overwrite\")\n",
    "\n",
    "#Desde un DataFrame de Pandas\n",
    "\n",
    "data = pd.DataFrame({\n",
    "    \"vector\": [\n",
    "        [1.1, 1.2, 1.3, 1.4], \n",
    "        [0.2, 1.8, 0.4, 3.6], \n",
    "        [3.1, 4.2, 5.3, 6.4],\n",
    "        [1.9, 2.8, 3.7, 4.6],\n",
    "        [2.3, 3.5, 4.8, 5.1],\n",
    "        [0.6, 0.9, 1.1, 1.3]\n",
    "    ],\n",
    "    \"lat\": [45.5, 40.1, 34.9, 51.5, 48.3, 39.7],\n",
    "    \"long\": [-122.7, -74.1, -118.3, -0.1, 2.2, -75.5]\n",
    "})\n",
    "\n",
    "table_pd = db.create_table(\"pd_table\", data, exist_ok=True, mode=\"overwrite\")\n",
    "\n",
    "\n",
    "#Desde un DataFrame de Polars\n",
    "\n",
    "data = pl.DataFrame({\n",
    "    \"vector\": [[3.1, 4.1], [5.9, 26.5], [7.2, 9.3], [2.5, 15.8]],\n",
    "    \"item\": [\"foo\", \"bar\", \"baz\", \"qux\"],\n",
    "    \"price\": [10.0, 20.0, 15.0, 25.0],\n",
    "    \"quantity\": [5, 10, 7, 12],\n",
    "    \"category\": [\"electronics\", \"furniture\", \"books\", \"clothing\"]\n",
    "})\n",
    "\n",
    "table_pl = db.create_table(\"pl_table\", data=data, exist_ok=True, mode=\"overwrite\")\n",
    "\n",
    "print(table_pd.to_pandas())\n",
    "print()\n",
    "print(table_pl.to_pandas())\n",
    "print()\n",
    "print(table.to_pandas())"
   ]
  },
  {
   "cell_type": "markdown",
   "metadata": {},
   "source": [
    "<h2>Tablas vacias</h2>\n",
    "-Puede crear una tabla vacía para situaciones en las que desee agregar datos a la tabla más adelante. Un ejemplo sería cuando desea recopilar datos de un flujo de datos o un archivo externo y luego agregarlos a una tabla en lotes.  \n",
    "\n",
    "-Puede utilizar Pydantic para especificar el esquema de la tabla vacía. Tenga en cuenta que no importamos directamente pydantic, sino que utilizamos lancedb.pydantic, que es una subclase de pydantic.BaseModel que se ha ampliado para admitir tipos específicos de LanceDB como Vector. "
   ]
  },
  {
   "cell_type": "code",
   "execution_count": 4,
   "metadata": {},
   "outputs": [
    {
     "name": "stderr",
     "output_type": "stream",
     "text": [
      "[2024-12-01T02:57:45Z WARN  lance::dataset] No existing dataset at /home/jake3120/itam/FuentesDeDatos/LanceDB/notebooks/data/introdb/extended_table.lance, it will be created\n"
     ]
    }
   ],
   "source": [
    "from lancedb.pydantic import LanceModel, Vector\n",
    "\n",
    "class Item(LanceModel):\n",
    "    vector: Vector(3)  # Vector de 3 dimensiones\n",
    "    item: str          # Nombre del artículo\n",
    "    price: float       # Precio del artículo\n",
    "\n",
    "# Crear la tabla con la nueva estructura\n",
    "tbl = db.create_table(\n",
    "    \"extended_table\", \n",
    "    schema=Item.to_arrow_schema(),  # Esquema generado desde el modelo\n",
    "    exist_ok=True, \n",
    "    mode=\"overwrite\"  # Sobrescribe si ya existe\n",
    ")\n"
   ]
  },
  {
   "cell_type": "markdown",
   "metadata": {},
   "source": [
    "<h2>Inserción de datos</h2>\n",
    "\n",
    "-Puede agregar cualquiera de las estructuras de datos válidas aceptadas por la tabla LanceDB, es decir `dict`, `list[dict]`, `pd.DataFrame`, o `Iterator[pa.RecordBatch]`. A continuación se muestran algunos ejemplos."
   ]
  },
  {
   "cell_type": "code",
   "execution_count": 5,
   "metadata": {},
   "outputs": [
    {
     "data": {
      "text/html": [
       "<div>\n",
       "<style scoped>\n",
       "    .dataframe tbody tr th:only-of-type {\n",
       "        vertical-align: middle;\n",
       "    }\n",
       "\n",
       "    .dataframe tbody tr th {\n",
       "        vertical-align: top;\n",
       "    }\n",
       "\n",
       "    .dataframe thead th {\n",
       "        text-align: right;\n",
       "    }\n",
       "</style>\n",
       "<table border=\"1\" class=\"dataframe\">\n",
       "  <thead>\n",
       "    <tr style=\"text-align: right;\">\n",
       "      <th></th>\n",
       "      <th>vector</th>\n",
       "      <th>item</th>\n",
       "      <th>price</th>\n",
       "    </tr>\n",
       "  </thead>\n",
       "  <tbody>\n",
       "    <tr>\n",
       "      <th>0</th>\n",
       "      <td>[0.1, 0.2, 0.3]</td>\n",
       "      <td>Laptop</td>\n",
       "      <td>1200.50</td>\n",
       "    </tr>\n",
       "    <tr>\n",
       "      <th>1</th>\n",
       "      <td>[0.3, 0.1, 0.4]</td>\n",
       "      <td>Headphones</td>\n",
       "      <td>99.99</td>\n",
       "    </tr>\n",
       "    <tr>\n",
       "      <th>2</th>\n",
       "      <td>[0.5, 0.2, 0.1]</td>\n",
       "      <td>Smartphone</td>\n",
       "      <td>799.99</td>\n",
       "    </tr>\n",
       "  </tbody>\n",
       "</table>\n",
       "</div>"
      ],
      "text/plain": [
       "            vector        item    price\n",
       "0  [0.1, 0.2, 0.3]      Laptop  1200.50\n",
       "1  [0.3, 0.1, 0.4]  Headphones    99.99\n",
       "2  [0.5, 0.2, 0.1]  Smartphone   799.99"
      ]
     },
     "execution_count": 5,
     "metadata": {},
     "output_type": "execute_result"
    }
   ],
   "source": [
    "# Lista de datos\n",
    "items = [\n",
    "    {\"vector\": [0.1, 0.2, 0.3], \"item\": \"Laptop\", \"price\": 1200.50},\n",
    "    {\"vector\": [0.3, 0.1, 0.4], \"item\": \"Headphones\", \"price\": 99.99},\n",
    "    {\"vector\": [0.5, 0.2, 0.1], \"item\": \"Smartphone\", \"price\": 799.99}\n",
    "]\n",
    "\n",
    "# Insertar datos en la tabla\n",
    "tbl.add(items)\n",
    "tbl.to_pandas()\n"
   ]
  },
  {
   "cell_type": "code",
   "execution_count": 6,
   "metadata": {},
   "outputs": [
    {
     "data": {
      "text/html": [
       "<div>\n",
       "<style scoped>\n",
       "    .dataframe tbody tr th:only-of-type {\n",
       "        vertical-align: middle;\n",
       "    }\n",
       "\n",
       "    .dataframe tbody tr th {\n",
       "        vertical-align: top;\n",
       "    }\n",
       "\n",
       "    .dataframe thead th {\n",
       "        text-align: right;\n",
       "    }\n",
       "</style>\n",
       "<table border=\"1\" class=\"dataframe\">\n",
       "  <thead>\n",
       "    <tr style=\"text-align: right;\">\n",
       "      <th></th>\n",
       "      <th>vector</th>\n",
       "      <th>item</th>\n",
       "      <th>price</th>\n",
       "    </tr>\n",
       "  </thead>\n",
       "  <tbody>\n",
       "    <tr>\n",
       "      <th>0</th>\n",
       "      <td>[0.1, 0.2, 0.3]</td>\n",
       "      <td>Laptop</td>\n",
       "      <td>1200.50</td>\n",
       "    </tr>\n",
       "    <tr>\n",
       "      <th>1</th>\n",
       "      <td>[0.3, 0.1, 0.4]</td>\n",
       "      <td>Headphones</td>\n",
       "      <td>99.99</td>\n",
       "    </tr>\n",
       "    <tr>\n",
       "      <th>2</th>\n",
       "      <td>[0.5, 0.2, 0.1]</td>\n",
       "      <td>Smartphone</td>\n",
       "      <td>799.99</td>\n",
       "    </tr>\n",
       "    <tr>\n",
       "      <th>3</th>\n",
       "      <td>[7.7, 3.3, 6.3]</td>\n",
       "      <td>VideoGame</td>\n",
       "      <td>70.25</td>\n",
       "    </tr>\n",
       "    <tr>\n",
       "      <th>4</th>\n",
       "      <td>[1.4, 5.3, 3.6]</td>\n",
       "      <td>Smartphone</td>\n",
       "      <td>53.32</td>\n",
       "    </tr>\n",
       "    <tr>\n",
       "      <th>5</th>\n",
       "      <td>[7.0, 5.0, 9.7]</td>\n",
       "      <td>Keyboard</td>\n",
       "      <td>37.54</td>\n",
       "    </tr>\n",
       "    <tr>\n",
       "      <th>6</th>\n",
       "      <td>[6.4, 7.8, 7.5]</td>\n",
       "      <td>Mouse</td>\n",
       "      <td>56.60</td>\n",
       "    </tr>\n",
       "    <tr>\n",
       "      <th>7</th>\n",
       "      <td>[8.9, 8.5, 8.6]</td>\n",
       "      <td>Mouse</td>\n",
       "      <td>93.88</td>\n",
       "    </tr>\n",
       "  </tbody>\n",
       "</table>\n",
       "</div>"
      ],
      "text/plain": [
       "            vector        item    price\n",
       "0  [0.1, 0.2, 0.3]      Laptop  1200.50\n",
       "1  [0.3, 0.1, 0.4]  Headphones    99.99\n",
       "2  [0.5, 0.2, 0.1]  Smartphone   799.99\n",
       "3  [7.7, 3.3, 6.3]   VideoGame    70.25\n",
       "4  [1.4, 5.3, 3.6]  Smartphone    53.32\n",
       "5  [7.0, 5.0, 9.7]    Keyboard    37.54\n",
       "6  [6.4, 7.8, 7.5]       Mouse    56.60\n",
       "7  [8.9, 8.5, 8.6]       Mouse    93.88"
      ]
     },
     "execution_count": 6,
     "metadata": {},
     "output_type": "execute_result"
    }
   ],
   "source": [
    "import random\n",
    "\n",
    "def make_batches():\n",
    "    items = [\"Mouse\", \"VideoGame\", \"Smartphone\", \"Keyboard\", \"Monitor\"]\n",
    "    \n",
    "    for i in range(5): \n",
    "        vector = np.random.uniform(0, 10, 3).tolist()  # Valores aleatorios entre 0 y 10\n",
    "        vector = [round(x, 1) for x in vector]  # Redondear cada valor a 1 decimal\n",
    "        item = random.choice(items) # Elegir un item aleatorio de la lista\n",
    "        price = round(random.uniform(5.0, 100.0), 2)  # Precio aleatorio entre 5 y 100\n",
    "        \n",
    "        yield [\n",
    "            {\"vector\": vector, \"item\": item, \"price\": price}\n",
    "        ]\n",
    "\n",
    "# Agregar los lotes generados\n",
    "tbl.add(make_batches())\n",
    "\n",
    "# Ver los datos generados\n",
    "tbl.to_pandas()\n"
   ]
  },
  {
   "cell_type": "markdown",
   "metadata": {},
   "source": [
    "<h2>Eliminar de una tabla</h2>\n",
    "\n",
    "Utilice el método `delete()` de las tablas para eliminar filas de una tabla. Para elegir qué filas eliminar, proporcione un filtro que coincida con las columnas de metadatos. Esto puede eliminar cualquier cantidad de filas que coincidan con el filtro."
   ]
  },
  {
   "cell_type": "code",
   "execution_count": null,
   "metadata": {},
   "outputs": [],
   "source": [
    "tbl.delete('item = \"Laptop\"')\n",
    "tbl.to_pandas()"
   ]
  },
  {
   "cell_type": "markdown",
   "metadata": {},
   "source": [
    "Eliminar de una lista de valores\n"
   ]
  },
  {
   "cell_type": "code",
   "execution_count": null,
   "metadata": {},
   "outputs": [],
   "source": [
    "to_remove = [99.99,93.89]\n",
    "to_remove = \", \".join(str(v) for v in to_remove)\n",
    "\n",
    "tbl.delete(f\"price IN ({to_remove})\")\n",
    "tbl.to_pandas()"
   ]
  },
  {
   "cell_type": "markdown",
   "metadata": {},
   "source": [
    "Eliminar una tabla"
   ]
  },
  {
   "cell_type": "code",
   "execution_count": null,
   "metadata": {},
   "outputs": [],
   "source": [
    "# db.drop_table(\"extended_table\")"
   ]
  },
  {
   "cell_type": "markdown",
   "metadata": {},
   "source": [
    "<h2>Actualizar una tabla</h2>\n",
    "\n",
    "Esto se puede utilizar para actualizar de cero a todas las filas según la cantidad de filas que coincidan con la cláusula `where`. Las consultas de actualización siguen la forma de una declaración SQL UPDATE. El parámetro `where` es un filtro SQL que coincide con las columnas de metadatos. Los parámetros `valueso` y `values_sqlse` utilizan para proporcionar los nuevos valores para las columnas."
   ]
  },
  {
   "cell_type": "markdown",
   "metadata": {},
   "source": [
    "| Parámetro   | Tipo  | Descripción                                                                                                                 |\n",
    "|-------------|-------|-----------------------------------------------------------------------------------------------------------------------------|\n",
    "| where       | str   | La cláusula SQL where que se debe utilizar al actualizar filas. Por ejemplo, 'x = 2' o 'x IN (1, 2, 3)'. El filtro no debe estar vacío o generará un error. |\n",
    "| values      | dict  | Los valores que se van a actualizar. Las claves son los nombres de las columnas y los valores son los valores que se van a establecer. |\n",
    "| values_sql  | dict  | Los valores que se van a actualizar. Las claves son los nombres de las columnas y los valores son las expresiones SQL que se van a establecer. Por ejemplo, {'x': 'x + 1'} incrementará el valor de la columna x en 1. |\n"
   ]
  },
  {
   "cell_type": "code",
   "execution_count": 7,
   "metadata": {},
   "outputs": [
    {
     "name": "stdout",
     "output_type": "stream",
     "text": [
      "   x      vector\n",
      "0  1  [1.0, 2.0]\n",
      "1  2  [3.0, 4.0]\n",
      "2  3  [5.0, 6.0]\n",
      "   x        vector\n",
      "0  1    [1.0, 2.0]\n",
      "1  3    [5.0, 6.0]\n",
      "2  2  [10.0, 10.0]\n"
     ]
    },
    {
     "name": "stderr",
     "output_type": "stream",
     "text": [
      "[2024-12-01T02:59:41Z WARN  lance::dataset] No existing dataset at /home/jake3120/itam/FuentesDeDatos/LanceDB/notebooks/data/introdb2/my_table.lance, it will be created\n"
     ]
    }
   ],
   "source": [
    "db = lancedb.connect(\"data/introdb2\")\n",
    "\n",
    "# Create a table from a pandas DataFrame\n",
    "data = pd.DataFrame({\"x\": [1, 2, 3], \"vector\": [[1, 2], [3, 4], [5, 6]]})\n",
    "table = db.create_table(\"my_table\", data, exist_ok=True, mode=\"overwrite\")\n",
    "print(table.to_pandas())\n",
    "\n",
    "# Update the table where x = 2\n",
    "table.update(where=\"x = 2\", values={\"vector\": [10, 10]})\n",
    "print(table.to_pandas())"
   ]
  },
  {
   "cell_type": "markdown",
   "metadata": {},
   "source": [
    "<h4>Actualización mediante una consulta SQL</h4>\n",
    "\n",
    "El parámetro `values` se utiliza para proporcionar los nuevos valores de las columnas como valores literales. También puede utilizar el parámetro `values_sql`/ `valuesSql` para proporcionar expresiones SQL para los nuevos valores. Por ejemplo, puede utilizar values_sql=\"x + 1\"para incrementar el valor de la xcolumna en 1."
   ]
  },
  {
   "cell_type": "code",
   "execution_count": 8,
   "metadata": {},
   "outputs": [
    {
     "name": "stdout",
     "output_type": "stream",
     "text": [
      "   x        vector\n",
      "0  2    [1.0, 2.0]\n",
      "1  4    [5.0, 6.0]\n",
      "2  3  [10.0, 10.0]\n"
     ]
    }
   ],
   "source": [
    "# Update the table where x = 2\n",
    "table.update(values_sql={\"x\": \"x + 1\"})\n",
    "\n",
    "print(table.to_pandas())"
   ]
  },
  {
   "cell_type": "markdown",
   "metadata": {},
   "source": [
    "<h2>Manejo de vectores erróneos</h2>\n",
    "\n",
    "En LanceDB Python, puede usar el parametro `on_bad_vectors` para elegir cómo se manejan los valores de vector no válidos. Los vectores no válidos:\n",
    "\n",
    "1. Son de la dimensión equivocada  \n",
    "2. Contienen valores NaN  \n",
    "3. Son nulos pero están en un campo no nulo  \n",
    "\n",
    "De forma predeterminada, LanceDB generará un error si encuentra un vector incorrecto. También puede elegir una de las siguientes opciones:\n",
    "\n",
    "- `drop`:Ignorar filas con vectores incorrectos  \n",
    "\n",
    "- `fill`: Reemplaza los valores incorrectos (NaN) o los valores faltantes (muy pocas dimensiones) con el valor de relleno especificado en el parámetro `fill_value`. Una entrada como [1.0, NaN, 3.0]se reemplazará con [1.0, 0.0, 3.0]if fill_value=0.0. \n",
    " \n",
    "- `null`: Reemplazar vectores incorrectos por valores nulos (solo funciona si la columna admite valores nulos). Un vector incorrecto [1.0, NaN, 3.0]se reemplazará por valores nulos null si la columna admite valores nulos. Si la columna del vector no admite valores nulos, los vectores incorrectos provocarán un error."
   ]
  }
 ],
 "metadata": {
  "kernelspec": {
   "display_name": "Python 3",
   "language": "python",
   "name": "python3"
  },
  "language_info": {
   "codemirror_mode": {
    "name": "ipython",
    "version": 3
   },
   "file_extension": ".py",
   "mimetype": "text/x-python",
   "name": "python",
   "nbconvert_exporter": "python",
   "pygments_lexer": "ipython3",
   "version": "3.10.12"
  }
 },
 "nbformat": 4,
 "nbformat_minor": 2
}
