{
  "nbformat": 4,
  "nbformat_minor": 0,
  "metadata": {
    "colab": {
      "provenance": []
    },
    "kernelspec": {
      "name": "python3",
      "display_name": "Python 3"
    },
    "language_info": {
      "name": "python"
    }
  },
  "cells": [
    {
      "cell_type": "markdown",
      "source": [
        "# **TAREA LanceDB**"
      ],
      "metadata": {
        "id": "dXVF2G3AQ_HX"
      }
    },
    {
      "cell_type": "markdown",
      "source": [
        "**Task 1: Consulta avanzada con proyección y filtro**\n",
        "\n",
        "Instrucciones:\n",
        "1. Genera un vector aleatorio con la misma dirección que los embeddings que están en la tabla mis_vectores\n",
        "2. Realiza una búsqueda en la tabla para encontrar los 5 elementos más cercanos\n",
        "3. Proyecta los resultados para mostrar solo las columnas item y _distance\n",
        "4. Excluye de los resultado los elementos cuyo nombre sea 'item 500'\n",
        "\n",
        "Pregunta: ¿Cuáles son los cinco elementos más cercanos que cumplen con los criterios y cuál es la distancia de cada uno?"
      ],
      "metadata": {
        "id": "bAWMZKlqOeHf"
      }
    },
    {
      "cell_type": "code",
      "source": [],
      "metadata": {
        "id": "4ERIHvUROpHn"
      },
      "execution_count": null,
      "outputs": []
    },
    {
      "cell_type": "markdown",
      "source": [
        "**Task 2: Creación de tablas**\n",
        "\n",
        "Instrucciones:\n",
        "1. Define un nuevo esquema para una tabla vacía con las siguientes columnas:\n",
        "*   vector (vector de 4 dimensiones)\n",
        "*   nombre\n",
        "*   categoria\n",
        "2. Crea una tabla vacía llamada nueva_tabla usando el esquema\n",
        "3. Inserta 5 registros en la tabla\n",
        "4. Muestra el contenido de la tabla\n",
        "\n",
        "\n",
        "\n"
      ],
      "metadata": {
        "id": "iGMzKnyOPPOF"
      }
    },
    {
      "cell_type": "code",
      "source": [],
      "metadata": {
        "id": "ekQhX-IrRMto"
      },
      "execution_count": null,
      "outputs": []
    },
    {
      "cell_type": "markdown",
      "source": [
        "TAsk 3: Actualización de vectores y filtrado\n",
        "\n",
        "Instrucciones:\n",
        "1. Crea una tabla utilizando un DataFrame de Pandas con las siguientes columnas:\n",
        "- id (Entero).\n",
        "- vector (Lista de tres números flotantes)\n",
        "2. Actualiza el vector de la fila donde id=3 a [10.0, 11.0, 10.0]\n",
        "3. Filtra la tabla para mostrar solo las filas donde al menos un valor del vector sea mayor a 9.0\n"
      ],
      "metadata": {
        "id": "PMTgGIZbP4V6"
      }
    },
    {
      "cell_type": "code",
      "source": [],
      "metadata": {
        "id": "gKkb7mmgRNWO"
      },
      "execution_count": null,
      "outputs": []
    },
    {
      "cell_type": "markdown",
      "source": [
        "Task 4: Embeddings multimodales y búsqueda combinada\n",
        "\n",
        "Instrucciones:\n",
        "1. Crea una tabla con datos de texto e imágenes combinados. Incluye las siguientes columnas:\n",
        "- texto (Texto).\n",
        "- imagen (Nombre del archivo de imagen).\n",
        "- embedding_texto (Vector del texto generado con SentenceTransformer).\n",
        "- embedding_imagen (Vector de la imagen generado con ResNet18).\n",
        "2. Realiza una consulta para encontrar los elementos con un texto similar a \"La tecnología avanza rápido\" y una imagen visualmente similar a un color predominantemente azul.\n",
        "3. Muestra los resultados combinados ordenados por la menor distancia promedio entre ambos embeddings.\n"
      ],
      "metadata": {
        "id": "rargPzZFP4nX"
      }
    },
    {
      "cell_type": "code",
      "source": [],
      "metadata": {
        "id": "YIY57gZHQgBv"
      },
      "execution_count": null,
      "outputs": []
    }
  ]
}