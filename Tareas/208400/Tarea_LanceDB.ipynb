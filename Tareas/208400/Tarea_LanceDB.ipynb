{
 "cells": [
  {
   "cell_type": "markdown",
   "metadata": {
    "id": "dXVF2G3AQ_HX"
   },
   "source": [
    "# **TAREA LanceDB**\n",
    "- Considera usar ANN para cada búsqueda o filtro"
   ]
  },
  {
   "cell_type": "markdown",
   "metadata": {
    "id": "bAWMZKlqOeHf"
   },
   "source": [
    "**Task 1: Consulta avanzada con proyección y filtro**\n",
    "\n",
    "Instrucciones:\n",
    "1. Genera un vector aleatorio con la misma dirección que los embeddings que están en la tabla mis_vectores\n",
    "2. Realiza una búsqueda en la tabla para encontrar los 5 elementos más cercanos\n",
    "3. Proyecta los resultados para mostrar solo las columnas item y _distance\n",
    "4. Excluye de los resultado los elementos cuyo nombre sea 'item 500'\n",
    "\n",
    "Pregunta: ¿Cuáles son los cinco elementos más cercanos que cumplen con los criterios y cuál es la distancia de cada uno?"
   ]
  },
  {
   "cell_type": "code",
   "execution_count": 1,
   "metadata": {
    "id": "4ERIHvUROpHn"
   },
   "outputs": [],
   "source": [
    "# Cargar librerías necesarias\n",
    "import time\n",
    "import lancedb\n",
    "import numpy as np\n",
    "import pandas as pd\n",
    "import matplotlib.pyplot as plt"
   ]
  },
  {
   "cell_type": "code",
   "execution_count": 2,
   "metadata": {
    "id": "4ERIHvUROpHn"
   },
   "outputs": [
    {
     "name": "stdout",
     "output_type": "stream",
     "text": [
      "Tabla 'mis_vectores' creada con 199990 vectores.\n"
     ]
    }
   ],
   "source": [
    "# Configurar LanceDB\n",
    "uri = \"data/ANN\"  # Directorio donde se guardará la base de datos\n",
    "db = lancedb.connect(uri)\n",
    "\n",
    "# Crear 10,000 vectores de muestra aleatorios\n",
    "np.random.seed(42)  # Para reproducibilidad\n",
    "data = [\n",
    "    {\"vector\": row, \"item\": f\"item {i}\"}\n",
    "    for i, row in enumerate(np.random.random((19_999_0, 1536)).astype(\"float32\"))\n",
    "]\n",
    "\n",
    "# Crear tabla en la base de datos\n",
    "tbl = db.create_table(\"mis_vectores\", data=data)\n",
    "print(f\"Tabla 'mis_vectores' creada con {len(data)} vectores.\")\n",
    "# Mostrar las primeras 5 filas de la tabla"
   ]
  },
  {
   "cell_type": "code",
   "execution_count": 3,
   "metadata": {
    "id": "4ERIHvUROpHn"
   },
   "outputs": [
    {
     "name": "stdout",
     "output_type": "stream",
     "text": [
      "          item   _distance\n",
      "0  item 120138  226.667191\n",
      "1   item 26019  227.885849\n",
      "2   item 17350  228.319977\n",
      "3   item 30532  228.503052\n",
      "4  item 121832  229.366043\n"
     ]
    }
   ],
   "source": [
    "query_vector = np.random.random(1536).astype(\"float32\")\n",
    "\n",
    "results = tbl.search(query_vector).limit(5).to_pandas()\n",
    "\n",
    "filtered_results = results[results[\"item\"] != \"item 500\"]\n",
    "\n",
    "final_results = filtered_results[[\"item\", \"_distance\"]]\n",
    "\n",
    "print(final_results)\n"
   ]
  },
  {
   "cell_type": "markdown",
   "metadata": {
    "id": "iGMzKnyOPPOF"
   },
   "source": [
    "**Task 2: Creación de tablas**\n",
    "\n",
    "Instrucciones:\n",
    "1. Define un nuevo esquema para una tabla vacía con las siguientes columnas:\n",
    "*   vector (vector de 4 dimensiones)\n",
    "*   nombre\n",
    "*   categoria\n",
    "2. Crea una tabla vacía llamada nueva_tabla usando el esquema\n",
    "3. Inserta 5 registros en la tabla\n",
    "4. Muestra el contenido de la tabla\n",
    "\n",
    "\n",
    "\n"
   ]
  },
  {
   "cell_type": "code",
   "execution_count": 11,
   "metadata": {
    "id": "ekQhX-IrRMto"
   },
   "outputs": [
    {
     "name": "stdout",
     "output_type": "stream",
     "text": [
      "                 vector      nombre categoria\n",
      "0  [0.1, 0.2, 0.3, 0.4]  Registro 1         A\n",
      "1  [0.5, 0.6, 0.7, 0.8]  Registro 2         B\n",
      "2  [0.9, 1.0, 1.1, 1.2]  Registro 3         A\n",
      "3  [1.3, 1.4, 1.5, 1.6]  Registro 4         C\n",
      "4  [1.7, 1.8, 1.9, 2.0]  Registro 5         B\n"
     ]
    }
   ],
   "source": [
    "import pyarrow as pa\n",
    "import lancedb\n",
    "\n",
    "# Paso 1: Definir el esquema usando PyArrow\n",
    "schema = pa.schema([\n",
    "    (\"vector\", pa.list_(pa.float32(), 4)),  # Vector de 4 dimensiones\n",
    "    (\"nombre\", pa.string()),               # Columna de tipo string\n",
    "    (\"categoria\", pa.string()),            # Columna de tipo string\n",
    "])\n",
    "\n",
    "# Paso 2: Crear la base de datos\n",
    "db = lancedb.connect(\"data/ANN\")\n",
    "\n",
    "# Paso 3: Crear o sobrescribir la tabla llamada \"nueva_tabla\"\n",
    "nueva_tabla = db.create_table(\"nueva_tabla\", schema=schema, mode=\"overwrite\")\n",
    "\n",
    "# Paso 4: Insertar registros como una lista de diccionarios\n",
    "records = [\n",
    "    {\"vector\": [0.1, 0.2, 0.3, 0.4], \"nombre\": \"Registro 1\", \"categoria\": \"A\"},\n",
    "    {\"vector\": [0.5, 0.6, 0.7, 0.8], \"nombre\": \"Registro 2\", \"categoria\": \"B\"},\n",
    "    {\"vector\": [0.9, 1.0, 1.1, 1.2], \"nombre\": \"Registro 3\", \"categoria\": \"A\"},\n",
    "    {\"vector\": [1.3, 1.4, 1.5, 1.6], \"nombre\": \"Registro 4\", \"categoria\": \"C\"},\n",
    "    {\"vector\": [1.7, 1.8, 1.9, 2.0], \"nombre\": \"Registro 5\", \"categoria\": \"B\"},\n",
    "]\n",
    "\n",
    "nueva_tabla.add(records)\n",
    "\n",
    "# Paso 5: Mostrar el contenido de la tabla\n",
    "print(nueva_tabla.to_pandas())\n"
   ]
  },
  {
   "cell_type": "markdown",
   "metadata": {
    "id": "PMTgGIZbP4V6"
   },
   "source": [
    "**Task 3: Actualización de vectores y filtrado**\n",
    "\n",
    "Instrucciones:\n",
    "1. Crea una tabla utilizando un DataFrame de Pandas con las siguientes columnas:\n",
    "- id (Entero).\n",
    "- vector (Lista de tres números flotantes)\n",
    "2. Actualiza el vector de la fila donde id=3 a [10.0, 11.0, 10.0]\n",
    "3. Filtra la tabla para mostrar solo las filas donde al menos un valor del vector sea mayor a 9.0\n"
   ]
  },
  {
   "cell_type": "code",
   "execution_count": 13,
   "metadata": {
    "id": "gKkb7mmgRNWO"
   },
   "outputs": [
    {
     "name": "stdout",
     "output_type": "stream",
     "text": [
      "   id              vector\n",
      "4   3  [10.0, 11.0, 10.0]\n"
     ]
    }
   ],
   "source": [
    "import pandas as pd\n",
    "import lancedb\n",
    "\n",
    "data = {\n",
    "    \"id\": [1, 2, 3, 4, 5],\n",
    "    \"vector\": [[0.1, 0.2, 0.3], [1.1, 1.2, 1.3], [2.1, 2.2, 2.3], [3.1, 3.2, 3.3], [4.1, 4.2, 4.3]],\n",
    "}\n",
    "df = pd.DataFrame(data)\n",
    "\n",
    "db = lancedb.connect(\"data/ANN\")\n",
    "tabla = db.create_table(\"tabla_actualizacion\", data=df, mode=\"overwrite\")\n",
    "\n",
    "tabla.update(\"id == 3\", {\"vector\": [10.0, 11.0, 10.0]})\n",
    "\n",
    "resultados = tabla.to_pandas()\n",
    "resultados_filtrados = resultados[resultados[\"vector\"].apply(lambda x: any(val > 9.0 for val in x))]\n",
    "\n",
    "print(resultados_filtrados)\n"
   ]
  },
  {
   "cell_type": "markdown",
   "metadata": {
    "id": "rargPzZFP4nX"
   },
   "source": [
    "**Task 4: Embeddings multimodales y búsqueda combinada**\n",
    "\n",
    "Instrucciones:\n",
    "1. Crea una tabla con datos de texto e imágenes combinados. Incluye las siguientes columnas:\n",
    "- texto (Texto).\n",
    "- imagen (Nombre del archivo de imagen).\n",
    "- embedding_texto (Vector del texto generado con SentenceTransformer).\n",
    "- embedding_imagen (Vector de la imagen generado con ResNet18).\n",
    "2. Realiza una consulta para encontrar los elementos con un texto similar a \"La tecnología avanza rápido\" y una imagen visualmente similar a un color predominantemente azul.\n",
    "3. Muestra los resultados combinados ordenados por la menor distancia promedio entre ambos embeddings.\n"
   ]
  },
  {
   "cell_type": "code",
   "execution_count": 14,
   "metadata": {
    "id": "YIY57gZHQgBv"
   },
   "outputs": [
    {
     "data": {
      "application/vnd.jupyter.widget-view+json": {
       "model_id": "c8e63fecd483479b9da85e320b4ab839",
       "version_major": 2,
       "version_minor": 0
      },
      "text/plain": [
       "modules.json:   0%|          | 0.00/349 [00:00<?, ?B/s]"
      ]
     },
     "metadata": {},
     "output_type": "display_data"
    },
    {
     "data": {
      "application/vnd.jupyter.widget-view+json": {
       "model_id": "29de11084012473abbce7541a14413ab",
       "version_major": 2,
       "version_minor": 0
      },
      "text/plain": [
       "config_sentence_transformers.json:   0%|          | 0.00/116 [00:00<?, ?B/s]"
      ]
     },
     "metadata": {},
     "output_type": "display_data"
    },
    {
     "data": {
      "application/vnd.jupyter.widget-view+json": {
       "model_id": "b50cd5255b774cbab7a14fdeb8ba99b6",
       "version_major": 2,
       "version_minor": 0
      },
      "text/plain": [
       "README.md:   0%|          | 0.00/10.7k [00:00<?, ?B/s]"
      ]
     },
     "metadata": {},
     "output_type": "display_data"
    },
    {
     "data": {
      "application/vnd.jupyter.widget-view+json": {
       "model_id": "a1daa559feab48f987784b76354f75e8",
       "version_major": 2,
       "version_minor": 0
      },
      "text/plain": [
       "sentence_bert_config.json:   0%|          | 0.00/53.0 [00:00<?, ?B/s]"
      ]
     },
     "metadata": {},
     "output_type": "display_data"
    },
    {
     "data": {
      "application/vnd.jupyter.widget-view+json": {
       "model_id": "069ea0745ae94ae582ab2063f3978124",
       "version_major": 2,
       "version_minor": 0
      },
      "text/plain": [
       "config.json:   0%|          | 0.00/612 [00:00<?, ?B/s]"
      ]
     },
     "metadata": {},
     "output_type": "display_data"
    },
    {
     "data": {
      "application/vnd.jupyter.widget-view+json": {
       "model_id": "2ecbfe6fe8d346dfa610859d88cb6726",
       "version_major": 2,
       "version_minor": 0
      },
      "text/plain": [
       "model.safetensors:   0%|          | 0.00/90.9M [00:00<?, ?B/s]"
      ]
     },
     "metadata": {},
     "output_type": "display_data"
    },
    {
     "data": {
      "application/vnd.jupyter.widget-view+json": {
       "model_id": "d0daec5097964245b873369f0d7c2a07",
       "version_major": 2,
       "version_minor": 0
      },
      "text/plain": [
       "tokenizer_config.json:   0%|          | 0.00/350 [00:00<?, ?B/s]"
      ]
     },
     "metadata": {},
     "output_type": "display_data"
    },
    {
     "data": {
      "application/vnd.jupyter.widget-view+json": {
       "model_id": "2a18bacc65f74785ab95d5d914e167aa",
       "version_major": 2,
       "version_minor": 0
      },
      "text/plain": [
       "vocab.txt:   0%|          | 0.00/232k [00:00<?, ?B/s]"
      ]
     },
     "metadata": {},
     "output_type": "display_data"
    },
    {
     "data": {
      "application/vnd.jupyter.widget-view+json": {
       "model_id": "a2f0200841424b8cb1f07628408b22b8",
       "version_major": 2,
       "version_minor": 0
      },
      "text/plain": [
       "tokenizer.json:   0%|          | 0.00/466k [00:00<?, ?B/s]"
      ]
     },
     "metadata": {},
     "output_type": "display_data"
    },
    {
     "data": {
      "application/vnd.jupyter.widget-view+json": {
       "model_id": "8828d71742fe4aa4ba14e5cc6fbea033",
       "version_major": 2,
       "version_minor": 0
      },
      "text/plain": [
       "special_tokens_map.json:   0%|          | 0.00/112 [00:00<?, ?B/s]"
      ]
     },
     "metadata": {},
     "output_type": "display_data"
    },
    {
     "data": {
      "application/vnd.jupyter.widget-view+json": {
       "model_id": "aa457c517b0e4b2ab641693bc7104319",
       "version_major": 2,
       "version_minor": 0
      },
      "text/plain": [
       "1_Pooling/config.json:   0%|          | 0.00/190 [00:00<?, ?B/s]"
      ]
     },
     "metadata": {},
     "output_type": "display_data"
    },
    {
     "name": "stderr",
     "output_type": "stream",
     "text": [
      "/usr/local/lib/python3.10/site-packages/torchvision/models/_utils.py:208: UserWarning: The parameter 'pretrained' is deprecated since 0.13 and may be removed in the future, please use 'weights' instead.\n",
      "  warnings.warn(\n",
      "/usr/local/lib/python3.10/site-packages/torchvision/models/_utils.py:223: UserWarning: Arguments other than a weight enum or `None` for 'weights' are deprecated since 0.13 and may be removed in the future. The current behavior is equivalent to passing `weights=ResNet18_Weights.IMAGENET1K_V1`. You can also use `weights=ResNet18_Weights.DEFAULT` to get the most up-to-date weights.\n",
      "  warnings.warn(msg)\n",
      "Downloading: \"https://download.pytorch.org/models/resnet18-f37072fd.pth\" to /root/.cache/torch/hub/checkpoints/resnet18-f37072fd.pth\n",
      "\n",
      "[2024-12-05T04:01:15Z WARN  lance::dataset] No existing dataset at /usr/src/app/notebooks/data/ANN/tabla_multimodal.lance, it will be created\n"
     ]
    },
    {
     "name": "stdout",
     "output_type": "stream",
     "text": [
      "                          texto        imagen  distancia_promedio\n",
      "0   La tecnología avanza rápido  imagen_2.jpg            5.828258\n",
      "1                Un día soleado  imagen_3.jpg            6.410706\n",
      "2       El océano azul profundo  imagen_5.jpg            6.445819\n",
      "3  Montañas bajo el cielo claro  imagen_6.jpg            6.455087\n",
      "4              El cielo es azul  imagen_1.jpg            6.488733\n"
     ]
    }
   ],
   "source": [
    "import os\n",
    "from sentence_transformers import SentenceTransformer\n",
    "import torch\n",
    "from torchvision import models, transforms\n",
    "from PIL import Image\n",
    "import lancedb\n",
    "import numpy as np\n",
    "import pandas as pd\n",
    "\n",
    "modelo_texto = SentenceTransformer('all-MiniLM-L6-v2')\n",
    "modelo_imagen = models.resnet18(pretrained=True)\n",
    "modelo_imagen.fc = torch.nn.Identity()  # Remover la capa final para obtener embeddings\n",
    "\n",
    "transform = transforms.Compose([\n",
    "    transforms.Resize((224, 224)),\n",
    "    transforms.ToTensor(),\n",
    "    transforms.Normalize(mean=[0.485, 0.456, 0.406], std=[0.229, 0.224, 0.225]),\n",
    "])\n",
    "\n",
    "ruta_imagenes = \"./data/images\"\n",
    "archivos_imagenes = [f for f in os.listdir(ruta_imagenes) if f.endswith('.jpg')]\n",
    "\n",
    "textos = [\n",
    "    \"El cielo es azul\",\n",
    "    \"La tecnología avanza rápido\",\n",
    "    \"Un día soleado\",\n",
    "    \"Innovación y progreso\",\n",
    "    \"El océano azul profundo\",\n",
    "    \"Montañas bajo el cielo claro\"\n",
    "]\n",
    "\n",
    "data = []\n",
    "for texto, archivo_imagen in zip(textos, archivos_imagenes):\n",
    "    # Embedding del texto\n",
    "    embedding_texto = modelo_texto.encode(texto)\n",
    "    \n",
    "    # Embedding de la imagen\n",
    "    imagen = Image.open(os.path.join(ruta_imagenes, archivo_imagen)).convert(\"RGB\")\n",
    "    tensor_imagen = transform(imagen).unsqueeze(0)  # Añadir batch dimension\n",
    "    embedding_imagen = modelo_imagen(tensor_imagen).detach().numpy().flatten()\n",
    "    \n",
    "    # Agregar datos a la tabla\n",
    "    data.append({\n",
    "        \"texto\": texto,\n",
    "        \"imagen\": archivo_imagen,\n",
    "        \"embedding_texto\": embedding_texto,\n",
    "        \"embedding_imagen\": embedding_imagen\n",
    "    })\n",
    "\n",
    "df = pd.DataFrame(data)\n",
    "\n",
    "db = lancedb.connect(\"data/ANN\")\n",
    "tabla = db.create_table(\"tabla_multimodal\", data=df.to_dict(orient=\"records\"), mode=\"overwrite\")\n",
    "\n",
    "consulta_texto = \"La tecnología avanza rápido\"\n",
    "consulta_imagen = np.random.rand(512)  # Simular un embedding para un color azul predominante (ajusta según tu necesidad)\n",
    "\n",
    "resultados = []\n",
    "for _, fila in df.iterrows():\n",
    "    dist_texto = np.linalg.norm(fila[\"embedding_texto\"] - modelo_texto.encode(consulta_texto))\n",
    "    dist_imagen = np.linalg.norm(fila[\"embedding_imagen\"] - consulta_imagen)\n",
    "    dist_promedio = (dist_texto + dist_imagen) / 2\n",
    "    resultados.append({\n",
    "        \"texto\": fila[\"texto\"],\n",
    "        \"imagen\": fila[\"imagen\"],\n",
    "        \"distancia_promedio\": dist_promedio\n",
    "    })\n",
    "\n",
    "resultados_ordenados = sorted(resultados, key=lambda x: x[\"distancia_promedio\"])\n",
    "\n",
    "print(pd.DataFrame(resultados_ordenados).head())\n"
   ]
  },
  {
   "cell_type": "code",
   "execution_count": null,
   "metadata": {},
   "outputs": [],
   "source": []
  }
 ],
 "metadata": {
  "colab": {
   "provenance": []
  },
  "kernelspec": {
   "display_name": "Python 3 (ipykernel)",
   "language": "python",
   "name": "python3"
  },
  "language_info": {
   "codemirror_mode": {
    "name": "ipython",
    "version": 3
   },
   "file_extension": ".py",
   "mimetype": "text/x-python",
   "name": "python",
   "nbconvert_exporter": "python",
   "pygments_lexer": "ipython3",
   "version": "3.10.16"
  }
 },
 "nbformat": 4,
 "nbformat_minor": 4
}
