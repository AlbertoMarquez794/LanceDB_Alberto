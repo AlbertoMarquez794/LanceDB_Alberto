{
 "cells": [
  {
   "cell_type": "markdown",
   "id": "15214caf",
   "metadata": {},
   "source": [
    "# Consultas Vectoriales en LanceDB con el Dataset TMDb\n",
    "\n",
    "Este notebook utiliza el dataset **TMDb 5000 Movies** para realizar consultas vectoriales usando descripciones de películas."
   ]
  },
  {
   "cell_type": "markdown",
   "id": "0ddb8886",
   "metadata": {},
   "source": [
    "## Paso 1: Cargar el Dataset\n"
   ]
  },
  {
   "cell_type": "code",
   "execution_count": 12,
   "id": "6fef5fd5",
   "metadata": {},
   "outputs": [],
   "source": [
    "import pandas as pd\n",
    "import os\n",
    "from sentence_transformers import SentenceTransformer\n",
    "import numpy as np\n",
    "import pyarrow as pa\n",
    "import lancedb "
   ]
  },
  {
   "cell_type": "code",
   "execution_count": 3,
   "id": "cddb3dd4",
   "metadata": {},
   "outputs": [
    {
     "name": "stdout",
     "output_type": "stream",
     "text": [
      "       id                                     title  \\\n",
      "0   19995                                    Avatar   \n",
      "1     285  Pirates of the Caribbean: At World's End   \n",
      "2  206647                                   Spectre   \n",
      "3   49026                     The Dark Knight Rises   \n",
      "4   49529                               John Carter   \n",
      "\n",
      "                                            overview  \\\n",
      "0  In the 22nd century, a paraplegic Marine is di...   \n",
      "1  Captain Barbossa, long believed to be dead, ha...   \n",
      "2  A cryptic message from Bond’s past sends him o...   \n",
      "3  Following the death of District Attorney Harve...   \n",
      "4  John Carter is a war-weary, former military ca...   \n",
      "\n",
      "                                              genres  \n",
      "0  [{\"id\": 28, \"name\": \"Action\"}, {\"id\": 12, \"nam...  \n",
      "1  [{\"id\": 12, \"name\": \"Adventure\"}, {\"id\": 14, \"...  \n",
      "2  [{\"id\": 28, \"name\": \"Action\"}, {\"id\": 12, \"nam...  \n",
      "3  [{\"id\": 28, \"name\": \"Action\"}, {\"id\": 80, \"nam...  \n",
      "4  [{\"id\": 28, \"name\": \"Action\"}, {\"id\": 12, \"nam...  \n"
     ]
    }
   ],
   "source": [
    "# Ruta al archivo\n",
    "data_path = \"data/tmdb_5000_movies.csv\"\n",
    "\n",
    "# Cargar el dataset\n",
    "movies = pd.read_csv(data_path)\n",
    "\n",
    "# Mantener solo las columnas necesarias\n",
    "movies = movies[[\"id\", \"title\", \"overview\", \"genres\"]]\n",
    "\n",
    "# Reemplazar valores nulos en la descripción\n",
    "movies[\"overview\"] = movies[\"overview\"].fillna(\"\")\n",
    "\n",
    "# Mostrar un resumen del dataset\n",
    "print(movies.head())"
   ]
  },
  {
   "cell_type": "markdown",
   "id": "b9996cf7",
   "metadata": {},
   "source": [
    "## Paso 2: Generar Embeddings de las Descripciones\n",
    "Utilizaremos el modelo **all-MiniLM-L6-v2** de `sentence-transformers` para convertir las descripciones en vectores numéricos."
   ]
  },
  {
   "cell_type": "code",
   "execution_count": 4,
   "id": "5bf596eb",
   "metadata": {},
   "outputs": [
    {
     "name": "stdout",
     "output_type": "stream",
     "text": [
      "Embeddings generados para las películas.\n"
     ]
    }
   ],
   "source": [
    "# Cargar el modelo preentrenado\n",
    "text_model = SentenceTransformer('all-MiniLM-L6-v2')\n",
    "\n",
    "# Generar embeddings para las descripciones\n",
    "movies[\"embedding\"] = movies[\"overview\"].apply(lambda x: text_model.encode(x).astype(np.float32).tolist())\n",
    "\n",
    "print(\"Embeddings generados para las películas.\")"
   ]
  },
  {
   "cell_type": "markdown",
   "id": "5acea1e8",
   "metadata": {},
   "source": [
    "## Paso 3: Guardar los Datos en LanceDB\n",
    "Conectaremos a LanceDB y almacenaremos los datos con un esquema adecuado."
   ]
  },
  {
   "cell_type": "code",
   "execution_count": 14,
   "id": "5cf4c972",
   "metadata": {},
   "outputs": [
    {
     "name": "stdout",
     "output_type": "stream",
     "text": [
      "Tabla creada correctamente.\n"
     ]
    },
    {
     "name": "stderr",
     "output_type": "stream",
     "text": [
      "[2024-12-02T05:45:20Z WARN  lance::dataset] No existing dataset at /home/jake3120/itam/FuentesDeDatos/LanceDB/notebooks/data/movies/movies.lance, it will be created\n"
     ]
    }
   ],
   "source": [
    "# Conectar a LanceDB\n",
    "db = lancedb.connect(\"data/movies\")\n",
    "\n",
    "# Especificar esquema con id como entero\n",
    "schema = pa.schema([\n",
    "    (\"id\", pa.int64()),  # Cambiado a entero\n",
    "    (\"title\", pa.string()),\n",
    "    (\"overview\", pa.string()),\n",
    "    (\"genres\", pa.string()),\n",
    "    (\"embedding\", pa.list_(pa.float32(), list_size=len(movies[\"embedding\"][0])))\n",
    "])\n",
    "\n",
    "# Convertir a una tabla Arrow\n",
    "table = pa.Table.from_pandas(movies, schema=schema)\n",
    "\n",
    "# Crear la tabla en LanceDB\n",
    "tabla = db.create_table(\"movies\", schema=schema, mode=\"overwrite\")\n",
    "tabla.add(table)\n",
    "print(\"Tabla creada correctamente.\")\n"
   ]
  },
  {
   "cell_type": "markdown",
   "id": "6120f84c",
   "metadata": {},
   "source": [
    "## Paso 4: Realizar Consultas Vectoriales\n",
    "Ejecutaremos múltiples consultas para encontrar películas similares basadas en una descripción textual."
   ]
  },
  {
   "cell_type": "code",
   "execution_count": 15,
   "id": "651efe01",
   "metadata": {},
   "outputs": [
    {
     "name": "stdout",
     "output_type": "stream",
     "text": [
      "Películas recomendadas para la consulta 1:\n",
      "                     title                                           overview\n",
      "0  Da Sweet Blood of Jesus  A movie about human beings who are addicted to...\n",
      "1      Harrison Montgomery                            Film from Daniel Davila\n",
      "2                 Fortress  A futuristic prison movie. Protagonist and wif...\n",
      "3                  Gattaca  Science fiction drama about a future society i...\n",
      "4              Family Plot  Lighthearted suspense film about a phony psych...\n"
     ]
    }
   ],
   "source": [
    "# Consulta 1: Películas de ciencia ficción\n",
    "query_description_1 = \"Thrilling science fiction movie\"\n",
    "query_embedding_1 = text_model.encode(query_description_1).astype(np.float32)\n",
    "\n",
    "# Realizar búsqueda\n",
    "results_query_1 = tabla.search(query_embedding_1, vector_column_name=\"embedding\").limit(5).to_pandas()\n",
    "\n",
    "print(\"Películas recomendadas para la consulta 1:\")\n",
    "print(results_query_1[[\"title\", \"overview\"]])"
   ]
  },
  {
   "cell_type": "code",
   "execution_count": 16,
   "id": "017c3c80",
   "metadata": {},
   "outputs": [
    {
     "name": "stdout",
     "output_type": "stream",
     "text": [
      "Películas recomendadas para la consulta 2:\n",
      "                title                                           overview\n",
      "0              Closer  A witty, romantic, and very dangerous love sto...\n",
      "1       The Last Song  A drama centered on a rebellious girl who is s...\n",
      "2          16 to Life  Romantic comedy. A small town teenager's angst...\n",
      "3  As It Is in Heaven  A musical romantic tragedy about a famous comp...\n",
      "4   Darling Companion  The story of a woman who loves her dog more th...\n"
     ]
    }
   ],
   "source": [
    "# Consulta 2: Drama romántico\n",
    "query_description_2 = \"A romantic drama about love and loss.\"\n",
    "query_embedding_2 = text_model.encode(query_description_2).astype(np.float32)\n",
    "\n",
    "# Realizar búsqueda\n",
    "results_query_2 = tabla.search(query_embedding_2, vector_column_name=\"embedding\").limit(5).to_pandas()\n",
    "\n",
    "print(\"Películas recomendadas para la consulta 2:\")\n",
    "print(results_query_2[[\"title\", \"overview\"]])"
   ]
  }
 ],
 "metadata": {
  "kernelspec": {
   "display_name": ".venv",
   "language": "python",
   "name": "python3"
  },
  "language_info": {
   "codemirror_mode": {
    "name": "ipython",
    "version": 3
   },
   "file_extension": ".py",
   "mimetype": "text/x-python",
   "name": "python",
   "nbconvert_exporter": "python",
   "pygments_lexer": "ipython3",
   "version": "3.11.10"
  }
 },
 "nbformat": 4,
 "nbformat_minor": 5
}
