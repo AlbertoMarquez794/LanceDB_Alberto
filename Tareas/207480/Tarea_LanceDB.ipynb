{
 "cells": [
  {
   "cell_type": "markdown",
   "metadata": {
    "id": "dXVF2G3AQ_HX"
   },
   "source": [
    "# **TAREA LanceDB**\n",
    "- Considera usar ANN para cada búsqueda o filtro"
   ]
  },
  {
   "cell_type": "markdown",
   "metadata": {
    "id": "bAWMZKlqOeHf"
   },
   "source": [
    "**Task 1: Consulta avanzada con proyección y filtro**\n",
    "\n",
    "Instrucciones:\n",
    "1. Genera un vector aleatorio con la misma dirección que los embeddings que están en la tabla mis_vectores\n",
    "2. Realiza una búsqueda en la tabla para encontrar los 5 elementos más cercanos\n",
    "3. Proyecta los resultados para mostrar solo las columnas item y _distance\n",
    "4. Excluye de los resultado los elementos cuyo nombre sea 'item 500'\n",
    "\n",
    "Pregunta: ¿Cuáles son los cinco elementos más cercanos que cumplen con los criterios y cuál es la distancia de cada uno?"
   ]
  },
  {
   "cell_type": "code",
   "execution_count": 4,
   "metadata": {
    "id": "4ERIHvUROpHn"
   },
   "outputs": [
    {
     "name": "stdout",
     "output_type": "stream",
     "text": [
      "Five nearest neighbors:\n",
      "                                              vector         item   _distance\n",
      "0  [0.37454012, 0.9507143, 0.7319939, 0.5986585, ...       item 0    0.000000\n",
      "1  [0.20024236, 0.60035306, 0.2857333, 0.39349523...    item 1523  230.041855\n",
      "2  [0.13669865, 0.3894892, 0.049534895, 0.8630013...   item 38321  230.824173\n",
      "3  [0.3673092, 0.6906272, 0.82208246, 0.6918987, ...   item 34220  231.273346\n",
      "4  [0.2601927, 0.72232693, 0.77136034, 0.11831053...  item 140761  231.335159\n"
     ]
    }
   ],
   "source": [
    "import lancedb\n",
    "import numpy as np\n",
    "import pandas as pd\n",
    "\n",
    "# Connect to the database\n",
    "uri = \"data/ANN\"\n",
    "db = lancedb.connect(uri)\n",
    "\n",
    "# Open the existing table\n",
    "tbl = db.open_table(\"mis_vectores\")\n",
    "\n",
    "# Generate a random vector with the same dimensionality as the embeddings\n",
    "# The embeddings are 1536-dimensional based on the previous code\n",
    "np.random.seed(42)  # For reproducibility\n",
    "query_vector = np.random.random(1536).astype(\"float32\")\n",
    "\n",
    "# Perform the similarity search\n",
    "results = (\n",
    "    tbl.search(query_vector)  # Search with the random vector\n",
    "    .limit(5)  # Limit to 5 results\n",
    "    .where(\"item != 'item 500'\")  # Exclude 'item 500'\n",
    "    .to_pandas()  # Convert directly to pandas\n",
    ")\n",
    "\n",
    "print(\"Five nearest neighbors:\")\n",
    "print(results)"
   ]
  },
  {
   "cell_type": "markdown",
   "metadata": {
    "id": "iGMzKnyOPPOF"
   },
   "source": [
    "**Task 2: Creación de tablas**\n",
    "\n",
    "Instrucciones:\n",
    "1. Define un nuevo esquema para una tabla vacía con las siguientes columnas:\n",
    "*   vector (vector de 4 dimensiones)\n",
    "*   nombre\n",
    "*   categoria\n",
    "2. Crea una tabla vacía llamada nueva_tabla usando el esquema\n",
    "3. Inserta 5 registros en la tabla\n",
    "4. Muestra el contenido de la tabla\n",
    "\n",
    "\n",
    "\n"
   ]
  },
  {
   "cell_type": "code",
   "execution_count": 6,
   "metadata": {
    "id": "ekQhX-IrRMto"
   },
   "outputs": [
    {
     "name": "stdout",
     "output_type": "stream",
     "text": [
      "Contenido de la tabla:\n",
      "                 vector      nombre categoria\n",
      "0  [1.1, 2.2, 3.3, 4.4]  Elemento A    Tipo 1\n",
      "1  [0.5, 1.5, 2.5, 3.5]  Elemento B    Tipo 2\n",
      "2  [4.4, 3.3, 2.2, 1.1]  Elemento C    Tipo 1\n",
      "3  [2.0, 3.0, 4.0, 5.0]  Elemento D    Tipo 3\n",
      "4  [5.5, 4.4, 3.3, 2.2]  Elemento E    Tipo 2\n"
     ]
    }
   ],
   "source": [
    "import lancedb\n",
    "import numpy as np\n",
    "import pandas as pd\n",
    "from lancedb.pydantic import LanceModel, Vector\n",
    "\n",
    "# Define the schema using Pydantic LanceModel\n",
    "class NuevoEsquema(LanceModel):\n",
    "    vector: Vector(4)  # Vector de 4 dimensiones\n",
    "    nombre: str\n",
    "    categoria: str\n",
    "\n",
    "# Connect to the database\n",
    "uri = \"data/ANN\"\n",
    "db = lancedb.connect(uri)\n",
    "\n",
    "# Create an empty table with the defined schema\n",
    "nueva_tabla = db.create_table(\n",
    "    \"nueva_tabla\", \n",
    "    schema=NuevoEsquema.to_arrow_schema(), \n",
    "    exist_ok=True,  # Permite sobrescribir si ya existe\n",
    "    mode=\"overwrite\"  # Sobrescribe la tabla si ya existe\n",
    ")\n",
    "\n",
    "# Preparar datos para insertar\n",
    "datos_insertar = [\n",
    "    {\n",
    "        \"vector\": [1.1, 2.2, 3.3, 4.4],\n",
    "        \"nombre\": \"Elemento A\",\n",
    "        \"categoria\": \"Tipo 1\"\n",
    "    },\n",
    "    {\n",
    "        \"vector\": [0.5, 1.5, 2.5, 3.5],\n",
    "        \"nombre\": \"Elemento B\", \n",
    "        \"categoria\": \"Tipo 2\"\n",
    "    },\n",
    "    {\n",
    "        \"vector\": [4.4, 3.3, 2.2, 1.1],\n",
    "        \"nombre\": \"Elemento C\",\n",
    "        \"categoria\": \"Tipo 1\"\n",
    "    },\n",
    "    {\n",
    "        \"vector\": [2.0, 3.0, 4.0, 5.0],\n",
    "        \"nombre\": \"Elemento D\",\n",
    "        \"categoria\": \"Tipo 3\"\n",
    "    },\n",
    "    {\n",
    "        \"vector\": [5.5, 4.4, 3.3, 2.2],\n",
    "        \"nombre\": \"Elemento E\",\n",
    "        \"categoria\": \"Tipo 2\"\n",
    "    }\n",
    "]\n",
    "\n",
    "# Insertar los registros\n",
    "nueva_tabla.add(datos_insertar)\n",
    "\n",
    "# Mostrar el contenido de la tabla\n",
    "resultados = nueva_tabla.to_pandas()\n",
    "print(\"Contenido de la tabla:\")\n",
    "print(resultados)"
   ]
  },
  {
   "cell_type": "markdown",
   "metadata": {
    "id": "PMTgGIZbP4V6"
   },
   "source": [
    "**Task 3: Actualización de vectores y filtrado**\n",
    "\n",
    "Instrucciones:\n",
    "1. Crea una tabla utilizando un DataFrame de Pandas con las siguientes columnas:\n",
    "- id (Entero).\n",
    "- vector (Lista de tres números flotantes)\n",
    "2. Actualiza el vector de la fila donde id=3 a [10.0, 11.0, 10.0]\n",
    "3. Filtra la tabla para mostrar solo las filas donde al menos un valor del vector sea mayor a 9.0\n"
   ]
  },
  {
   "cell_type": "code",
   "execution_count": 8,
   "metadata": {
    "id": "gKkb7mmgRNWO"
   },
   "outputs": [
    {
     "name": "stdout",
     "output_type": "stream",
     "text": [
      "Tabla después de la actualización y filtrado:\n",
      "   id              vector\n",
      "4   3  [10.0, 11.0, 10.0]\n"
     ]
    }
   ],
   "source": [
    "import lancedb\n",
    "import pandas as pd\n",
    "import numpy as np\n",
    "\n",
    "# Crear un DataFrame de Pandas con los datos iniciales\n",
    "data = pd.DataFrame({\n",
    "    'id': [1, 2, 3, 4, 5],\n",
    "    'vector': [\n",
    "        [1.0, 2.0, 3.0],\n",
    "        [4.0, 5.0, 6.0],\n",
    "        [7.0, 8.0, 9.0],\n",
    "        [2.0, 3.0, 4.0],\n",
    "        [5.0, 6.0, 7.0]\n",
    "    ]\n",
    "})\n",
    "\n",
    "# Conectar a la base de datos\n",
    "uri = \"data/ANN\"\n",
    "db = lancedb.connect(uri)\n",
    "\n",
    "# Crear la tabla en LanceDB\n",
    "tabla = db.create_table(\"actualizacion_tabla\", data, exist_ok=True, mode=\"overwrite\")\n",
    "\n",
    "# Actualizar el vector de la fila donde id=3 a [10.0, 11.0, 10.0]\n",
    "# En LanceDB, necesitamos reemplazar el registro completo\n",
    "def update_vector(table, id_to_update, new_vector):\n",
    "    # Obtener todos los registros\n",
    "    df = table.to_pandas()\n",
    "    \n",
    "    # Encontrar el índice de la fila a actualizar\n",
    "    row_index = df[df['id'] == id_to_update].index[0]\n",
    "    \n",
    "    # Crear un nuevo registro con el vector actualizado\n",
    "    updated_row = df.loc[row_index].to_dict()\n",
    "    updated_row['vector'] = new_vector\n",
    "    \n",
    "    # Eliminar la fila antigua y agregar la nueva\n",
    "    table.delete(f\"id = {id_to_update}\")\n",
    "    table.add([updated_row])\n",
    "\n",
    "# Realizar la actualización\n",
    "update_vector(tabla, 3, [10.0, 11.0, 10.0])\n",
    "\n",
    "# Filtrar para mostrar filas donde al menos un valor del vector sea mayor a 9.0\n",
    "# Primero, convertir a pandas para facilitar el filtrado\n",
    "df_filtrado = tabla.to_pandas()\n",
    "df_filtrado_resultado = df_filtrado[df_filtrado['vector'].apply(lambda x: any(val > 9.0 for val in x))]\n",
    "\n",
    "print(\"Tabla después de la actualización y filtrado:\")\n",
    "print(df_filtrado_resultado)"
   ]
  },
  {
   "cell_type": "markdown",
   "metadata": {
    "id": "rargPzZFP4nX"
   },
   "source": [
    "**Task 4: Embeddings multimodales y búsqueda combinada**\n",
    "\n",
    "Instrucciones:\n",
    "1. Crea una tabla con datos de texto e imágenes combinados. Incluye las siguientes columnas:\n",
    "- texto (Texto).\n",
    "- imagen (Nombre del archivo de imagen).\n",
    "- embedding_texto (Vector del texto generado con SentenceTransformer).\n",
    "- embedding_imagen (Vector de la imagen generado con ResNet18).\n",
    "2. Realiza una consulta para encontrar los elementos con un texto similar a \"La tecnología avanza rápido\" y una imagen visualmente similar a un color predominantemente azul.\n",
    "3. Muestra los resultados combinados ordenados por la menor distancia promedio entre ambos embeddings.\n"
   ]
  },
  {
   "cell_type": "code",
   "execution_count": 12,
   "metadata": {
    "id": "YIY57gZHQgBv"
   },
   "outputs": [
    {
     "name": "stdout",
     "output_type": "stream",
     "text": [
      "Embeddings multimodales generados:\n",
      "                                  texto                            imagen  \\\n",
      "0           La tecnología avanza rápido                        ivf_pq.png   \n",
      "1            El cielo es azul y hermoso                      imagen_6.jpg   \n",
      "2  Los avances científicos son notables                      imagen_2.jpg   \n",
      "3         Una escena nocturna tranquila  lancedb_embedded_explanation.png   \n",
      "4    Un paisaje marino con tonos azules                      imagen_4.jpg   \n",
      "\n",
      "                                     embedding_texto  \\\n",
      "0  [0.013738852925598621, -0.015867536887526512, ...   \n",
      "1  [0.002947152592241764, 0.07605063170194626, -0...   \n",
      "2  [0.02340988628566265, -0.0009007267071865499, ...   \n",
      "3  [0.05347878113389015, 0.04372989013791084, -0....   \n",
      "4  [-0.029234131798148155, 0.11961360275745392, -...   \n",
      "\n",
      "                                    embedding_imagen  \n",
      "0  [1.3739445209503174, 0.47907373309135437, 0.43...  \n",
      "1  [0.5759119987487793, 1.5680556297302246, 0.777...  \n",
      "2  [1.130041241645813, 0.29969194531440735, 0.104...  \n",
      "3  [0.0, 0.6529775261878967, 1.9913426637649536, ...  \n",
      "4  [1.2344390153884888, 0.5258687734603882, 0.811...  \n",
      "Tabla 'multimodal_embeddings' creada con éxito.\n",
      "Resultados ordenados por menor distancia promedio:\n",
      "                                  texto                            imagen  \\\n",
      "0         Una escena nocturna tranquila  lancedb_embedded_explanation.png   \n",
      "1           La tecnología avanza rápido                        ivf_pq.png   \n",
      "2            El cielo es azul y hermoso                      imagen_6.jpg   \n",
      "3    Un paisaje marino con tonos azules                      imagen_4.jpg   \n",
      "4  Los avances científicos son notables                      imagen_2.jpg   \n",
      "\n",
      "   distancia  \n",
      "0  11.593844  \n",
      "1  11.934084  \n",
      "2  14.911102  \n",
      "3  15.542609  \n",
      "4  15.661579  \n"
     ]
    }
   ],
   "source": [
    "import numpy as np\n",
    "import pandas as pd\n",
    "import torch\n",
    "from torchvision.models import resnet18, ResNet18_Weights\n",
    "from torchvision import transforms\n",
    "from PIL import Image\n",
    "from sentence_transformers import SentenceTransformer\n",
    "import lancedb\n",
    "import os\n",
    "\n",
    "# **Paso 1: Configuración del modelo**\n",
    "# Modelo para texto\n",
    "modelo_texto = SentenceTransformer('all-MiniLM-L6-v2')\n",
    "\n",
    "# Modelo para imágenes\n",
    "modelo_imagen = resnet18(weights=ResNet18_Weights.IMAGENET1K_V1)\n",
    "modelo_imagen.fc = torch.nn.Identity()  # Retirar la capa final para obtener el embedding\n",
    "modelo_imagen.eval()\n",
    "\n",
    "# Transformaciones para procesar imágenes\n",
    "transformacion_imagen = transforms.Compose([\n",
    "    transforms.Resize((224, 224)),\n",
    "    transforms.ToTensor(),\n",
    "    transforms.Normalize(mean=[0.485, 0.456, 0.406], std=[0.229, 0.224, 0.225])\n",
    "])\n",
    "\n",
    "# **Paso 2: Ruta a la carpeta de imágenes**\n",
    "directorio_imagenes = \"data/images\"  # Ajusta la ruta según tu estructura de proyecto\n",
    "\n",
    "# **Paso 3: Procesar cada imagen y generar embeddings**\n",
    "embeddings_imagenes = []\n",
    "nombres_imagenes = []\n",
    "\n",
    "for archivo_imagen in os.listdir(directorio_imagenes):\n",
    "    if archivo_imagen.endswith(\".jpg\") or archivo_imagen.endswith(\".png\"):\n",
    "        ruta_imagen = os.path.join(directorio_imagenes, archivo_imagen)\n",
    "        imagen = Image.open(ruta_imagen).convert(\"RGB\")\n",
    "        tensor_imagen = transformacion_imagen(imagen).unsqueeze(0)  # Agregar dimensión batch\n",
    "\n",
    "        # Generar embedding de la imagen\n",
    "        with torch.no_grad():\n",
    "            embedding = modelo_imagen(tensor_imagen).squeeze().numpy().astype('float32')\n",
    "\n",
    "        nombres_imagenes.append(archivo_imagen)  # Guardar nombre de la imagen\n",
    "        embeddings_imagenes.append(embedding.tolist())  # Guardar embedding como lista\n",
    "\n",
    "# **Paso 4: Generar embeddings para textos**\n",
    "textos = [\n",
    "    \"La tecnología avanza rápido\",\n",
    "    \"El cielo es azul y hermoso\",\n",
    "    \"Los avances científicos son notables\",\n",
    "    \"Una escena nocturna tranquila\",\n",
    "    \"Un paisaje marino con tonos azules\"\n",
    "]\n",
    "\n",
    "embeddings_textos = [modelo_texto.encode(texto).tolist() for texto in textos]\n",
    "\n",
    "# **Paso 5: Crear DataFrame con texto, imágenes y embeddings**\n",
    "df_multimodal = pd.DataFrame({\n",
    "    \"texto\": textos,\n",
    "    \"imagen\": nombres_imagenes[:len(textos)],  # Emparejar imágenes con textos disponibles\n",
    "    \"embedding_texto\": embeddings_textos,\n",
    "    \"embedding_imagen\": embeddings_imagenes[:len(textos)]  # Asegurarse de que coincidan las longitudes\n",
    "})\n",
    "\n",
    "print(\"Embeddings multimodales generados:\")\n",
    "print(df_multimodal.head())\n",
    "\n",
    "# **Paso 6: Guardar en LanceDB**\n",
    "# Conexión a LanceDB\n",
    "bd = lancedb.connect(\"data/introdb\")\n",
    "\n",
    "# Crear tabla en LanceDB\n",
    "tabla_multimodal = bd.create_table(\"multimodal_embeddings\", data=df_multimodal, mode=\"overwrite\")\n",
    "print(\"Tabla 'multimodal_embeddings' creada con éxito.\")\n",
    "\n",
    "# **Paso 7: Realizar búsqueda combinada**\n",
    "# Embedding del texto objetivo\n",
    "consulta_texto = \"La tecnología avanza rápido\"\n",
    "embedding_consulta_texto = modelo_texto.encode(consulta_texto)\n",
    "\n",
    "# Crear un embedding de 512 dimensiones para el color azul\n",
    "embedding_consulta_imagen = np.zeros(512)\n",
    "embedding_consulta_imagen[-1] = 1.0  # Predomina el azul\n",
    "\n",
    "# Realizar búsqueda en la tabla\n",
    "resultados = tabla_multimodal.to_pandas()\n",
    "\n",
    "# Calcular distancia promedio entre embeddings\n",
    "def calcular_distancia_combinada(fila):\n",
    "    distancia_texto = np.linalg.norm(np.array(fila[\"embedding_texto\"]) - np.array(embedding_consulta_texto))\n",
    "    distancia_imagen = np.linalg.norm(np.array(fila[\"embedding_imagen\"]) - embedding_consulta_imagen)\n",
    "    return (distancia_texto + distancia_imagen) / 2\n",
    "\n",
    "resultados[\"distancia\"] = resultados.apply(calcular_distancia_combinada, axis=1)\n",
    "\n",
    "# Ordenar por la menor distancia promedio\n",
    "resultados = resultados.sort_values(\"distancia\").reset_index(drop=True)\n",
    "\n",
    "# **Paso 8: Mostrar los resultados combinados**\n",
    "print(\"Resultados ordenados por menor distancia promedio:\")\n",
    "print(resultados[[\"texto\", \"imagen\", \"distancia\"]])\n"
   ]
  }
 ],
 "metadata": {
  "colab": {
   "provenance": []
  },
  "kernelspec": {
   "display_name": "Python 3 (ipykernel)",
   "language": "python",
   "name": "python3"
  },
  "language_info": {
   "codemirror_mode": {
    "name": "ipython",
    "version": 3
   },
   "file_extension": ".py",
   "mimetype": "text/x-python",
   "name": "python",
   "nbconvert_exporter": "python",
   "pygments_lexer": "ipython3",
   "version": "3.10.16"
  }
 },
 "nbformat": 4,
 "nbformat_minor": 4
}
