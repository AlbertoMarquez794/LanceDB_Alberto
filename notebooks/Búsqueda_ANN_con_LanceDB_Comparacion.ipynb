{
 "cells": [
  {
   "cell_type": "markdown",
   "id": "e9e9a0b7",
   "metadata": {},
   "source": [
    "\n",
    "# Búsqueda Aproximada de Vecinos Más Cercanos (ANN) con LanceDB\n",
    "\n",
    " **IVF_PQ** \n",
    "(Indexado basado en archivos invertidos y cuantización por producto) \n",
    "sirve para realizar búsquedas rápidas en grandes conjuntos de vectores. \n",
    "\n",
    "\n"
   ]
  },
  {
   "cell_type": "code",
   "execution_count": 2,
   "id": "768aa461",
   "metadata": {},
   "outputs": [],
   "source": [
    "\n",
    "# Cargar librerías necesarias\n",
    "import lancedb\n",
    "import numpy as np\n",
    "import pandas as pd\n",
    "import matplotlib.pyplot as plt\n"
   ]
  },
  {
   "cell_type": "code",
   "execution_count": 10,
   "id": "a43875d7",
   "metadata": {},
   "outputs": [
    {
     "name": "stdout",
     "output_type": "stream",
     "text": [
      "Tabla 'mis_vectores' creada con 10000 vectores.\n"
     ]
    }
   ],
   "source": [
    "\n",
    "# Configurar LanceDB\n",
    "uri = \"data/ANN\"  # Directorio donde se guardará la base de datos\n",
    "db = lancedb.connect(uri)\n",
    "\n",
    "# Crear 10,000 vectores de muestra aleatorios\n",
    "np.random.seed(42)  # Para reproducibilidad\n",
    "data = [\n",
    "    {\"vector\": row, \"item\": f\"item {i}\"}\n",
    "    for i, row in enumerate(np.random.random((10_000, 1536)).astype(\"float32\"))\n",
    "]\n",
    "\n",
    "# Crear tabla en la base de datos\n",
    "tbl = db.create_table(\"mis_vectores\", data=data)\n",
    "print(f\"Tabla 'mis_vectores' creada con {len(data)} vectores.\")\n"
   ]
  },
  {
   "cell_type": "code",
   "execution_count": null,
   "id": "c4923eed",
   "metadata": {},
   "outputs": [],
   "source": [
    "\n",
    "# Crear un índice para optimizar búsquedas\n",
    "tbl.create_index(num_partitions=256, num_sub_vectors=96)\n",
    "print(\"Índice IVF_PQ creado con 256 particiones y 96 sub-vectores.\")\n"
   ]
  },
  {
   "cell_type": "code",
   "execution_count": null,
   "id": "b7ec3467",
   "metadata": {},
   "outputs": [],
   "source": [
    "\n",
    "# Crear un vector de consulta aleatorio\n",
    "query_vector = np.random.random((1536)).astype(\"float32\")\n",
    "\n",
    "# Realizar búsqueda con parámetros ajustados\n",
    "resultados = tbl.search(query_vector).limit(5).nprobes(20).refine_factor(10).to_pandas()\n",
    "\n",
    "# Mostrar resultados\n",
    "print(\"Resultados de la búsqueda:\")\n",
    "print(resultados)\n"
   ]
  },
  {
   "cell_type": "code",
   "execution_count": null,
   "id": "4ffde4b8",
   "metadata": {},
   "outputs": [],
   "source": [
    "\n",
    "import time\n",
    "\n",
    "# Crear un vector de consulta\n",
    "query_vector = np.random.random((1536)).astype(\"float32\")\n",
    "\n",
    "# Búsqueda exhaustiva (sin índice)\n",
    "start_time = time.time()\n",
    "exhaustive_results = tbl.search(query_vector).limit(5).to_pandas()\n",
    "exhaustive_time = time.time() - start_time\n",
    "print(f\"Búsqueda exhaustiva tomó: {exhaustive_time:.4f} segundos\")\n",
    "\n",
    "# Búsqueda ANN (con índice)\n",
    "start_time = time.time()\n",
    "ann_results = tbl.search(query_vector).limit(5).nprobes(20).to_pandas()\n",
    "ann_time = time.time() - start_time\n",
    "print(f\"Búsqueda ANN tomó: {ann_time:.4f} segundos\")\n",
    "\n",
    "# Comparar tiempos\n",
    "print(f\"Diferencia de tiempo (exhaustiva vs ANN): {exhaustive_time - ann_time:.4f} segundos\")\n"
   ]
  },
  {
   "cell_type": "code",
   "execution_count": null,
   "id": "805ac12b",
   "metadata": {},
   "outputs": [],
   "source": [
    "\n",
    "# Filtrar resultados para excluir un ítem específico\n",
    "resultados_filtrados = tbl.search(query_vector).where(\"item != 'item 1141'\").to_pandas()\n",
    "print(\"Resultados filtrados:\")\n",
    "print(resultados_filtrados)\n",
    "\n",
    "# Seleccionar solo ciertas columnas\n",
    "resultados_proyectados = tbl.search(query_vector).select([\"vector\", \"_distance\"]).to_pandas()\n",
    "print(\"Resultados proyectados:\")\n",
    "print(resultados_proyectados)\n"
   ]
  },
  {
   "cell_type": "code",
   "execution_count": null,
   "id": "df8373bc",
   "metadata": {},
   "outputs": [],
   "source": [
    "\n",
    "# Visualizar las distancias de los resultados obtenidos\n",
    "plt.barh(resultados[\"item\"], resultados[\"_distance\"], color=\"skyblue\")\n",
    "plt.xlabel(\"Distancia\")\n",
    "plt.ylabel(\"Item\")\n",
    "plt.title(\"Resultados de búsqueda ANN (Distancia)\")\n",
    "plt.gca().invert_yaxis()  # Invertir eje Y para legibilidad\n",
    "plt.show()\n"
   ]
  },
  {
   "cell_type": "code",
   "execution_count": null,
   "id": "44ab86ac",
   "metadata": {},
   "outputs": [],
   "source": [
    "\n",
    "# Crear índice usando GPU (si se cuenta con una GPU y PyTorch con soporte CUDA)\n",
    "# Requiere instalar PyTorch compatible con CUDA.\n",
    "\n",
    "# tbl.create_index(\n",
    "#     num_partitions=256,\n",
    "#     num_sub_vectors=96,\n",
    "#     accelerator=\"cuda\"  # Usar \"cuda\" para GPUs Nvidia\n",
    "# )\n",
    "# print(\"Índice creado usando GPU.\")\n"
   ]
  },
  {
   "cell_type": "markdown",
   "id": "743bcfa5",
   "metadata": {},
   "source": [
    "\n",
    "# Conclusión\n",
    "\n",
    "En este notebook, aprendiste a:\n",
    "1. Crear una tabla en LanceDB con datos vectoriales.\n",
    "2. Construir un índice **IVF_PQ** para búsquedas rápidas.\n",
    "3. Configurar parámetros como `nprobes` y `refine_factor` para optimizar resultados.\n",
    "4. Aplicar filtros y proyecciones para personalizar búsquedas.\n",
    "5. (Opcional) Utilizar una GPU para acelerar la creación del índice.\n",
    "6. Visualizar distancias de los resultados para análisis.\n",
    "\n",
    "Este flujo es ideal para aplicaciones como sistemas de recomendación, búsqueda de imágenes o análisis de datos en grandes escalas.\n"
   ]
  }
 ],
 "metadata": {
  "kernelspec": {
   "display_name": ".venv",
   "language": "python",
   "name": "python3"
  },
  "language_info": {
   "codemirror_mode": {
    "name": "ipython",
    "version": 3
   },
   "file_extension": ".py",
   "mimetype": "text/x-python",
   "name": "python",
   "nbconvert_exporter": "python",
   "pygments_lexer": "ipython3",
   "version": "3.11.10"
  }
 },
 "nbformat": 4,
 "nbformat_minor": 5
}
