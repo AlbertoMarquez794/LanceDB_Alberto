{
 "cells": [
  {
   "cell_type": "markdown",
   "metadata": {
    "id": "dXVF2G3AQ_HX"
   },
   "source": [
    "# **TAREA LanceDB**\n",
    "- Considera usar ANN para cada búsqueda o filtro"
   ]
  },
  {
   "cell_type": "markdown",
   "metadata": {
    "id": "bAWMZKlqOeHf"
   },
   "source": [
    "**Task 1: Consulta avanzada con proyección y filtro**\n",
    "\n",
    "Instrucciones:\n",
    "1. Genera un vector aleatorio con la misma dirección que los embeddings que están en la tabla mis_vectores\n",
    "2. Realiza una búsqueda en la tabla para encontrar los 5 elementos más cercanos\n",
    "3. Proyecta los resultados para mostrar solo las columnas item y _distance\n",
    "4. Excluye de los resultado los elementos cuyo nombre sea 'item 500'\n",
    "\n",
    "Pregunta: ¿Cuáles son los cinco elementos más cercanos que cumplen con los criterios y cuál es la distancia de cada uno?"
   ]
  },
  {
   "cell_type": "code",
   "execution_count": 1,
   "metadata": {},
   "outputs": [
    {
     "name": "stdout",
     "output_type": "stream",
     "text": [
      "Directorio: data\n",
      "Directorio: data/ANN\n",
      "Directorio: data/ANN/mis_vectores.lance\n",
      "Directorio: data/ANN/mis_vectores.lance/_transactions copy\n",
      "Directorio: data/ANN/mis_vectores.lance/_versions\n",
      "Directorio: data/ANN/mis_vectores.lance/data copy\n",
      "  Tabla encontrada: 44eacc30-f76d-4aee-9547-0064dcdf8cf5.lance\n",
      "Directorio: data/ANN/mis_vectores.lance/_indices copy\n",
      "Directorio: data/ANN/mis_vectores.lance/_indices copy/6defcf63-6466-4051-8cfa-6dabaf5e196e\n",
      "Directorio: data/ANN/mis_vectores.lance/_indices copy/a3ce7190-1891-4c48-bc91-e5814c4ae795\n",
      "Directorio: data/ANN/mis_vectores.lance/_indices copy/7eab73c5-a744-4ad2-b4d8-06effda5b747\n",
      "Directorio: data/ANN/mis_vectores.lance/_versions copy\n",
      "Directorio: data/ANN/mis_vectores.lance/_transactions\n",
      "Directorio: data/ANN/mis_vectores.lance/data\n",
      "  Tabla encontrada: 6802c199-e43f-4a06-8cc9-6d4544734cbc.lance\n",
      "Directorio: data/introdb\n",
      "Directorio: data/introdb/multimodal_embeddings.lance\n",
      "Directorio: data/introdb/multimodal_embeddings.lance/_versions\n",
      "Directorio: data/introdb/multimodal_embeddings.lance/_transactions\n",
      "Directorio: data/introdb/multimodal_embeddings.lance/data\n",
      "  Tabla encontrada: 1558e4e0-4ed1-4fb5-8ca4-12842c959b87.lance\n",
      "  Tabla encontrada: ec7ecfdd-5eaa-4757-a881-f798b5fd52b2.lance\n",
      "  Tabla encontrada: aab4709e-cc1a-44f8-a3f9-25663e5981b3.lance\n",
      "Directorio: data/introdb/task3_tabla.lance\n",
      "Directorio: data/introdb/task3_tabla.lance/_versions\n",
      "Directorio: data/introdb/task3_tabla.lance/_transactions\n",
      "Directorio: data/introdb/task3_tabla.lance/data\n",
      "  Tabla encontrada: 6e2d18ca-fa8e-4f29-977a-eb672e1d7215.lance\n",
      "  Tabla encontrada: b283e5f5-5940-414a-95d5-3194d3fa000f.lance\n",
      "  Tabla encontrada: 283ee3d5-a9fc-446b-aeda-add2bf394d19.lance\n",
      "  Tabla encontrada: 506151db-2fd2-4e89-9a8c-3a1865fdbcb8.lance\n",
      "  Tabla encontrada: b5a0f5bd-d9c5-4d26-a73a-1e48182c6564.lance\n",
      "  Tabla encontrada: 6ce6c2a9-0444-4ad5-bd83-fd01f820bf4a.lance\n",
      "  Tabla encontrada: 0ec48fdc-536e-430b-a902-90999854c7ee.lance\n",
      "  Tabla encontrada: 0082877b-5021-4780-b8f8-8b76ca5c85ba.lance\n",
      "  Tabla encontrada: 2332dd0d-36e5-43df-850c-7626d0edf021.lance\n",
      "Directorio: data/introdb/nueva_tabla.lance\n",
      "Directorio: data/introdb/nueva_tabla.lance/_versions\n",
      "Directorio: data/introdb/nueva_tabla.lance/_transactions\n",
      "Directorio: data/introdb/nueva_tabla.lance/data\n",
      "  Tabla encontrada: f5c38d87-1cca-435f-9e9d-19d6dccb90fa.lance\n",
      "  Tabla encontrada: b24e3f87-a4f6-4098-b449-55ef020b0f04.lance\n",
      "Directorio: data/data\n",
      "Directorio: data/data/audios\n",
      "Directorio: data/data/introdb\n",
      "Directorio: data/data/introdb/pl_table.lance\n",
      "Directorio: data/data/introdb/pl_table.lance/_versions\n",
      "Directorio: data/data/introdb/pl_table.lance/_transactions\n",
      "Directorio: data/data/introdb/pl_table.lance/data\n",
      "  Tabla encontrada: 0214e349-4131-415c-83ab-e09dc6d82e41.lance\n",
      "Directorio: data/data/introdb/my_table.lance\n",
      "Directorio: data/data/introdb/my_table.lance/_versions\n",
      "Directorio: data/data/introdb/my_table.lance/_transactions\n",
      "Directorio: data/data/introdb/my_table.lance/data\n",
      "  Tabla encontrada: 98a294f5-8def-4af7-acfe-f4b517b109a6.lance\n",
      "Directorio: data/data/introdb/pd_table.lance\n",
      "Directorio: data/data/introdb/pd_table.lance/_versions\n",
      "Directorio: data/data/introdb/pd_table.lance/_transactions\n",
      "Directorio: data/data/introdb/pd_table.lance/data\n",
      "  Tabla encontrada: d82cd7b6-e76f-46b7-9d0e-dcffad2090e7.lance\n",
      "Directorio: data/data/images\n"
     ]
    }
   ],
   "source": [
    "import os\n",
    "\n",
    "db_path = \"data\"\n",
    "\n",
    "# Listar subdirectorios y archivos relevantes\n",
    "for root, dirs, files in os.walk(db_path):\n",
    "    print(f\"Directorio: {root}\")\n",
    "    for file in files:\n",
    "        if file.endswith(\".lance\"):\n",
    "            print(f\"  Tabla encontrada: {file}\")\n"
   ]
  },
  {
   "cell_type": "code",
   "execution_count": 2,
   "metadata": {},
   "outputs": [
    {
     "name": "stdout",
     "output_type": "stream",
     "text": [
      "Ruta absoluta de la tabla: /Users/emiliahernandez/Desktop/LanceDB/Tareas/208115/data/ANN/mis_vectores.lance\n"
     ]
    }
   ],
   "source": [
    "import os\n",
    "\n",
    "# Obtener ruta absoluta de la tabla\n",
    "absolute_path = os.path.abspath(\"data/ANN/mis_vectores.lance\")\n",
    "print(\"Ruta absoluta de la tabla:\", absolute_path)\n"
   ]
  },
  {
   "cell_type": "markdown",
   "metadata": {},
   "source": [
    "Busqué mis vectores pero no me debaja trabajar con ella. La copie y todo y no jalo, entonces la volví a generar"
   ]
  },
  {
   "cell_type": "code",
   "execution_count": 5,
   "metadata": {},
   "outputs": [
    {
     "name": "stdout",
     "output_type": "stream",
     "text": [
      "Tabla 'mis_vectores' creada con 199990 vectores.\n"
     ]
    }
   ],
   "source": [
    "import lancedb\n",
    "import pandas as pd\n",
    "import pyarrow as pa\n",
    "import polars as pl\n",
    "import numpy as np\n",
    "import random\n",
    "from lancedb.pydantic import Vector, LanceModel\n",
    "from pydantic import BaseModel\n",
    "# Configurar LanceDB\n",
    "uri = \"data/ANN2\"  # Directorio donde se guardará la base de datos\n",
    "db = lancedb.connect(uri)\n",
    "\n",
    "# Crear 10,000 vectores de muestra aleatorios\n",
    "np.random.seed(42)  # Para reproducibilidad\n",
    "data = [\n",
    "    {\"vector\": row, \"item\": f\"item {i}\"}\n",
    "    for i, row in enumerate(np.random.random((19_999_0, 1536)).astype(\"float32\"))\n",
    "]\n",
    "\n",
    "# Crear tabla en la base de datos\n",
    "tbl = db.create_table(\"mis_vectores\", data=data)\n",
    "print(f\"Tabla 'mis_vectores' creada con {len(data)} vectores.\")\n",
    "# Mostrar las primeras 5 filas de la tabla"
   ]
  },
  {
   "cell_type": "code",
   "execution_count": 6,
   "metadata": {},
   "outputs": [
    {
     "name": "stdout",
     "output_type": "stream",
     "text": [
      "Tabla 'mis_vectores' cargada exitosamente.\n",
      "Resultados filtrados:\n",
      "          item   _distance\n",
      "0    item 2319  427.060303\n",
      "1   item 59917  431.943817\n",
      "2  item 100836  433.208313\n",
      "3  item 120194  434.301575\n",
      "4  item 123504  435.128387\n"
     ]
    }
   ],
   "source": [
    "import numpy as np\n",
    "import lancedb\n",
    "\n",
    "# Conexión a la base de datos\n",
    "uri = \"data/ANN2\"  # Directorio donde se guardó la base de datos\n",
    "db = lancedb.connect(uri)\n",
    "\n",
    "# Abrir la tabla `mis_vectores`\n",
    "table = db.open_table(\"mis_vectores\")\n",
    "print(\"Tabla 'mis_vectores' cargada exitosamente.\")\n",
    "\n",
    "# **Paso 1**: Generar un vector aleatorio con la misma dimensión que los embeddings\n",
    "# Extraer un vector de ejemplo para determinar la dimensión\n",
    "sample_vector = table.to_pandas().iloc[0][\"vector\"]  # Acceder al primer embedding\n",
    "vector_dim = len(sample_vector)\n",
    "\n",
    "# Crear un vector aleatorio con la misma dimensión\n",
    "random_vector = np.random.rand(vector_dim)\n",
    "random_vector = random_vector / np.linalg.norm(random_vector)  # Normalizar\n",
    "\n",
    "# **Paso 2**: Buscar los 5 elementos más cercanos\n",
    "results = table.search(random_vector).limit(5).to_pandas()\n",
    "\n",
    "# **Paso 3**: Proyectar resultados para mostrar solo las columnas `item` y `_distance`\n",
    "projected_results = results[[\"item\", \"_distance\"]]\n",
    "\n",
    "# **Paso 4**: Excluir los elementos cuyo nombre sea \"item 500\"\n",
    "filtered_results = projected_results[projected_results[\"item\"] != \"item 500\"]\n",
    "\n",
    "# Mostrar resultados finales\n",
    "print(\"Resultados filtrados:\")\n",
    "print(filtered_results)\n"
   ]
  },
  {
   "cell_type": "markdown",
   "metadata": {
    "id": "iGMzKnyOPPOF"
   },
   "source": [
    "**Task 2: Creación de tablas**\n",
    "\n",
    "Instrucciones:\n",
    "1. Define un nuevo esquema para una tabla vacía con las siguientes columnas:\n",
    "*   vector (vector de 4 dimensiones)\n",
    "*   nombre\n",
    "*   categoria\n",
    "2. Crea una tabla vacía llamada nueva_tabla usando el esquema\n",
    "3. Inserta 5 registros en la tabla\n",
    "4. Muestra el contenido de la tabla\n",
    "\n",
    "\n",
    "\n"
   ]
  },
  {
   "cell_type": "code",
   "execution_count": 8,
   "metadata": {
    "id": "ekQhX-IrRMto"
   },
   "outputs": [
    {
     "name": "stdout",
     "output_type": "stream",
     "text": [
      "Tabla 'nueva_tabla' creada exitosamente\n",
      "Datos insertados exitosamente\n",
      "                                             vector       nombre    categoria\n",
      "0                              [0.0, 0.0, 0.0, 0.0]  placeholder  placeholder\n",
      "1    [0.86513436, 0.53423107, 0.6786794, 0.9053158]     nombre_1  categoria_1\n",
      "2    [0.9805097, 0.58602875, 0.9148938, 0.13578984]     nombre_2  categoria_2\n",
      "3   [0.4048784, 0.07962073, 0.68613964, 0.62683177]     nombre_3  categoria_3\n",
      "4       [0.980636, 0.519533, 0.7820983, 0.14700311]     nombre_4  categoria_4\n",
      "5  [0.46559915, 0.18441388, 0.46827078, 0.39827234]     nombre_5  categoria_5\n"
     ]
    }
   ],
   "source": [
    "import numpy as np\n",
    "import lancedb\n",
    "import pandas as pd\n",
    "\n",
    "# Conexión a la base de datos LanceDB\n",
    "db = lancedb.connect(\"data/introdb2\")  # Cambia esta ruta a la de tu base de datos\n",
    "\n",
    "# **Paso 1**: Crear un DataFrame con datos iniciales\n",
    "# Inicializa con vectores vacíos como [0, 0, 0, 0]\n",
    "initial_data = pd.DataFrame({\n",
    "    \"vector\": [[0, 0, 0, 0]],  # Inicializar con un vector válido\n",
    "    \"nombre\": [\"placeholder\"],  # Nombre genérico\n",
    "    \"categoria\": [\"placeholder\"]  # Categoría genérica\n",
    "})\n",
    "\n",
    "# **Paso 2**: Crear la tabla vacía con un registro inicial\n",
    "table = db.create_table(\"nueva_tabla\", initial_data)\n",
    "print(\"Tabla 'nueva_tabla' creada exitosamente\")\n",
    "\n",
    "# **Paso 3**: Insertar 5 registros en la tabla\n",
    "data_to_insert = pd.DataFrame({\n",
    "    \"vector\": [\n",
    "        np.random.rand(4).tolist() for _ in range(5)  # Vectores aleatorios de 4 dimensiones\n",
    "    ],\n",
    "    \"nombre\": [f\"nombre_{i}\" for i in range(1, 6)],  # Nombres personalizados\n",
    "    \"categoria\": [f\"categoria_{i}\" for i in range(1, 6)]  # Categorías personalizadas\n",
    "})\n",
    "table.add(data_to_insert)\n",
    "print(\"Datos insertados exitosamente\")\n",
    "\n",
    "# **Paso 4**: Mostrar el contenido de la tabla\n",
    "result = table.to_pandas()\n",
    "print(result)\n"
   ]
  },
  {
   "cell_type": "markdown",
   "metadata": {
    "id": "PMTgGIZbP4V6"
   },
   "source": [
    "**Task 3: Actualización de vectores y filtrado**\n",
    "\n",
    "Instrucciones:\n",
    "1. Crea una tabla utilizando un DataFrame de Pandas con las siguientes columnas:\n",
    "- id (Entero).\n",
    "- vector (Lista de tres números flotantes)\n",
    "2. Actualiza el vector de la fila donde id=3 a [10.0, 11.0, 10.0]\n",
    "3. Filtra la tabla para mostrar solo las filas donde al menos un valor del vector sea mayor a 9.0\n"
   ]
  },
  {
   "cell_type": "code",
   "execution_count": 9,
   "metadata": {
    "id": "gKkb7mmgRNWO"
   },
   "outputs": [
    {
     "name": "stdout",
     "output_type": "stream",
     "text": [
      "Tabla 'task3_tabla' creada exitosamente\n",
      "Vector actualizado exitosamente\n",
      "Filas donde al menos un valor del vector es mayor a 9.0:\n",
      "   id              vector\n",
      "0   1    [1.0, 2.0, 10.0]\n",
      "2   3  [10.0, 11.0, 10.0]\n",
      "4   5    [12.0, 4.0, 5.0]\n"
     ]
    },
    {
     "name": "stderr",
     "output_type": "stream",
     "text": [
      "[2024-12-03T14:50:14Z WARN  lance::dataset] No existing dataset at /Users/emiliahernandez/Desktop/LanceDB/Tareas/208115/data/task3/task3_tabla.lance, it will be created\n"
     ]
    }
   ],
   "source": [
    "import numpy as np\n",
    "import lancedb\n",
    "import pandas as pd\n",
    "\n",
    "# **Paso 1**: Conexión a la base de datos LanceDB\n",
    "db = lancedb.connect(\"data/task3\")  # Cambia esta ruta a la de tu base de datos\n",
    "\n",
    "# Crear un DataFrame inicial con las columnas especificadas\n",
    "data = pd.DataFrame({\n",
    "    \"id\": [1, 2, 3, 4, 5],  # IDs\n",
    "    \"vector\": [  # Vectores de 3 números flotantes\n",
    "        [1.0, 2.0, 10.0],\n",
    "        [4.0, 5.0, 6.0],\n",
    "        [7.0, 8.0, 9.0],\n",
    "        [0.0, 1.0, 2.0],\n",
    "        [12.0, 4.0, 5.0]\n",
    "    ]\n",
    "})\n",
    "\n",
    "# Crear la tabla en la base de datos\n",
    "table = db.create_table(\"task3_tabla\", data, mode=\"overwrite\")\n",
    "print(\"Tabla 'task3_tabla' creada exitosamente\")\n",
    "\n",
    "# **Paso 2**: Actualizar el vector de la fila donde id=3\n",
    "# Extraer datos actuales como DataFrame\n",
    "current_data = table.to_pandas()\n",
    "\n",
    "# Actualizar el vector de la fila con id=3\n",
    "# Usamos `.at` para acceder directamente a la celda\n",
    "index_to_update = current_data[current_data[\"id\"] == 3].index[0]\n",
    "current_data.at[index_to_update, \"vector\"] = [10.0, 11.0, 10.0]\n",
    "\n",
    "# Sobrescribir la tabla con los datos actualizados\n",
    "table = db.create_table(\"task3_tabla\", current_data, mode=\"overwrite\")\n",
    "print(\"Vector actualizado exitosamente\")\n",
    "\n",
    "# **Paso 3**: Filtrar filas donde al menos un valor del vector sea mayor a 9.0\n",
    "filtered_data = current_data[\n",
    "    current_data[\"vector\"].apply(lambda vec: any(x > 9.0 for x in vec))\n",
    "]\n",
    "\n",
    "# Mostrar el resultado\n",
    "print(\"Filas donde al menos un valor del vector es mayor a 9.0:\")\n",
    "print(filtered_data)\n"
   ]
  },
  {
   "cell_type": "markdown",
   "metadata": {
    "id": "rargPzZFP4nX"
   },
   "source": [
    "**Task 4: Embeddings multimodales y búsqueda combinada**\n",
    "\n",
    "Instrucciones:\n",
    "1. Crea una tabla con datos de texto e imágenes combinados. Incluye las siguientes columnas:\n",
    "- texto (Texto).\n",
    "- imagen (Nombre del archivo de imagen).\n",
    "- embedding_texto (Vector del texto generado con SentenceTransformer).\n",
    "- embedding_imagen (Vector de la imagen generado con ResNet18).\n",
    "2. Realiza una consulta para encontrar los elementos con un texto similar a \"La tecnología avanza rápido\" y una imagen visualmente similar a un color predominantemente azul.\n",
    "3. Muestra los resultados combinados ordenados por la menor distancia promedio entre ambos embeddings.\n"
   ]
  },
  {
   "cell_type": "code",
   "execution_count": null,
   "metadata": {
    "id": "YIY57gZHQgBv"
   },
   "outputs": [
    {
     "name": "stdout",
     "output_type": "stream",
     "text": [
      "Embeddings multimodales generados:\n",
      "                                  texto        imagen  \\\n",
      "0           La tecnología avanza rápido  imagen_3.jpg   \n",
      "1            El cielo es azul y hermoso  imagen_2.jpg   \n",
      "2  Los avances científicos son notables  imagen_1.jpg   \n",
      "3         Una escena nocturna tranquila  imagen_5.jpg   \n",
      "4    Un paisaje marino con tonos azules  imagen_4.jpg   \n",
      "\n",
      "                                     embedding_texto  \\\n",
      "0  [0.013738801702857018, -0.015867607668042183, ...   \n",
      "1  [0.0029471139423549175, 0.07605057209730148, -...   \n",
      "2  [0.023409849032759666, -0.0009007313055917621,...   \n",
      "3  [0.05347875878214836, 0.043729912489652634, -0...   \n",
      "4  [-0.02923412248492241, 0.11961355060338974, -0...   \n",
      "\n",
      "                                    embedding_imagen  \n",
      "0  [0.5015254020690918, 0.09100812673568726, 0.88...  \n",
      "1  [1.1300411224365234, 0.29969215393066406, 0.10...  \n",
      "2  [0.03967608883976936, 1.3665385246276855, 0.12...  \n",
      "3  [1.4056179523468018, 2.2068862915039062, 1.595...  \n",
      "4  [1.2344410419464111, 0.525867760181427, 0.8111...  \n",
      "Tabla 'multimodal_embeddings' creada con éxito.\n",
      "Resultados ordenados por menor distancia promedio:\n",
      "                                  texto        imagen   distance\n",
      "0         Una escena nocturna tranquila  imagen_5.jpg  11.334071\n",
      "1           La tecnología avanza rápido  imagen_3.jpg  12.100599\n",
      "2  Los avances científicos son notables  imagen_1.jpg  14.077821\n",
      "3    Un paisaje marino con tonos azules  imagen_4.jpg  15.542609\n",
      "4            El cielo es azul y hermoso  imagen_2.jpg  15.646939\n"
     ]
    }
   ],
   "source": [
    "import numpy as np\n",
    "import pandas as pd\n",
    "import torch\n",
    "from torchvision.models import resnet18, ResNet18_Weights\n",
    "from torchvision import transforms\n",
    "from PIL import Image\n",
    "from sentence_transformers import SentenceTransformer\n",
    "import lancedb\n",
    "\n",
    "# **Paso 1: Configuración del modelo**\n",
    "# Modelo para texto\n",
    "text_model = SentenceTransformer('all-MiniLM-L6-v2')\n",
    "\n",
    "# Modelo para imágenes\n",
    "image_model = resnet18(weights=ResNet18_Weights.IMAGENET1K_V1)\n",
    "image_model.fc = torch.nn.Identity()  # Retirar la capa final\n",
    "image_model.eval()\n",
    "\n",
    "# Transformaciones para imágenes\n",
    "image_transform = transforms.Compose([\n",
    "    transforms.Resize((224, 224)),\n",
    "    transforms.ToTensor(),\n",
    "    transforms.Normalize(mean=[0.485, 0.456, 0.406], std=[0.229, 0.224, 0.225])\n",
    "])\n",
    "\n",
    "# **Paso 2: Ruta a la carpeta de imágenes**\n",
    "image_dir = \"data/data/images\"  # Ajusta la ruta según tu estructura de proyecto\n",
    "\n",
    "# **Paso 3: Procesar cada imagen y generar embeddings**\n",
    "image_embeddings = []\n",
    "image_data = []\n",
    "\n",
    "for image_file in os.listdir(image_dir):\n",
    "    if image_file.endswith(\".jpg\") or image_file.endswith(\".png\"):\n",
    "        img_path = os.path.join(image_dir, image_file)\n",
    "        img = Image.open(img_path).convert(\"RGB\")\n",
    "        img_tensor = image_transform(img).unsqueeze(0)\n",
    "\n",
    "        # Generar embedding de la imagen\n",
    "        with torch.no_grad():\n",
    "            embedding = image_model(img_tensor).squeeze().numpy().astype('float32')\n",
    "\n",
    "        image_data.append(image_file)  # Nombre de la imagen\n",
    "        image_embeddings.append(embedding.tolist())  # Embedding como lista\n",
    "\n",
    "# **Paso 4: Generar embeddings para textos**\n",
    "texts = [\n",
    "    \"La tecnología avanza rápido\",\n",
    "    \"El cielo es azul y hermoso\",\n",
    "    \"Los avances científicos son notables\",\n",
    "    \"Una escena nocturna tranquila\",\n",
    "    \"Un paisaje marino con tonos azules\"\n",
    "]\n",
    "\n",
    "text_embeddings = [text_model.encode(text).tolist() for text in texts]\n",
    "\n",
    "# **Paso 5: Crear DataFrame con texto, imágenes y embeddings**\n",
    "df_multimodal = pd.DataFrame({\n",
    "    \"texto\": texts,\n",
    "    \"imagen\": image_data[:len(texts)],  # Emparejar imágenes con textos disponibles\n",
    "    \"embedding_texto\": text_embeddings,\n",
    "    \"embedding_imagen\": image_embeddings[:len(texts)]  # Asegurarse de que coincidan las longitudes\n",
    "})\n",
    "\n",
    "print(\"Embeddings multimodales generados:\")\n",
    "print(df_multimodal.head())\n",
    "\n",
    "# **Paso 6: Guardar en LanceDB**\n",
    "# Conexión a LanceDB\n",
    "db = lancedb.connect(\"data/introdb\")\n",
    "\n",
    "# Crear tabla en LanceDB\n",
    "tabla_multimodal = db.create_table(\"multimodal_embeddings\", data=df_multimodal, mode=\"overwrite\")\n",
    "print(\"Tabla 'multimodal_embeddings' creada con éxito.\")\n",
    "\n",
    "# **Paso 7: Realizar búsqueda combinada**\n",
    "# Embedding del texto objetivo\n",
    "query_text = \"La tecnología avanza rápido\"\n",
    "query_text_embedding = text_model.encode(query_text)\n",
    "\n",
    "# Crear un embedding de 512 dimensiones para el color azul\n",
    "query_image_embedding = np.zeros(512)\n",
    "query_image_embedding[-1] = 1.0  # Predomina el azul\n",
    "\n",
    "# Realizar búsqueda en la tabla\n",
    "results = tabla_multimodal.to_pandas()\n",
    "\n",
    "# Calcular distancia promedio entre embeddings\n",
    "def calculate_combined_distance(row):\n",
    "    text_distance = np.linalg.norm(np.array(row[\"embedding_texto\"]) - np.array(query_text_embedding))\n",
    "    image_distance = np.linalg.norm(np.array(row[\"embedding_imagen\"]) - query_image_embedding)\n",
    "    return (text_distance + image_distance) / 2\n",
    "\n",
    "results[\"distance\"] = results.apply(calculate_combined_distance, axis=1)\n",
    "\n",
    "# Ordenar por la menor distancia promedio\n",
    "results = results.sort_values(\"distance\").reset_index(drop=True)\n",
    "\n",
    "# **Paso 8: Mostrar los resultados combinados**\n",
    "print(\"Resultados ordenados por menor distancia promedio:\")\n",
    "print(results[[\"texto\", \"imagen\", \"distance\"]])\n"
   ]
  },
  {
   "cell_type": "markdown",
   "metadata": {},
   "source": [
    "A pesar de que el renglon con id 2 tiene el texto igual al de la búsqueda, la imagen no tiene nada de azul, entonces no me lo marcó con una menor distancia"
   ]
  },
  {
   "cell_type": "code",
   "execution_count": null,
   "metadata": {},
   "outputs": [],
   "source": []
  }
 ],
 "metadata": {
  "colab": {
   "provenance": []
  },
  "kernelspec": {
   "display_name": ".venv",
   "language": "python",
   "name": "python3"
  },
  "language_info": {
   "codemirror_mode": {
    "name": "ipython",
    "version": 3
   },
   "file_extension": ".py",
   "mimetype": "text/x-python",
   "name": "python",
   "nbconvert_exporter": "python",
   "pygments_lexer": "ipython3",
   "version": "3.12.7"
  }
 },
 "nbformat": 4,
 "nbformat_minor": 0
}
